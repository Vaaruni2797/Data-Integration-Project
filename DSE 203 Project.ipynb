{
 "cells": [
  {
   "cell_type": "code",
   "execution_count": 36,
   "id": "3b45242d",
   "metadata": {},
   "outputs": [
    {
     "name": "stdout",
     "output_type": "stream",
     "text": [
      "Requirement already satisfied: mysql-connector-python in c:\\users\\chris\\anaconda3\\lib\\site-packages (8.2.0)\n",
      "Requirement already satisfied: protobuf<=4.21.12,>=4.21.1 in c:\\users\\chris\\anaconda3\\lib\\site-packages (from mysql-connector-python) (4.21.12)\n",
      "Note: you may need to restart the kernel to use updated packages.\n"
     ]
    }
   ],
   "source": [
    "pip install mysql-connector-python"
   ]
  },
  {
   "cell_type": "code",
   "execution_count": 37,
   "id": "2fd2892c",
   "metadata": {},
   "outputs": [],
   "source": [
    "#libraries required\n",
    "import pandas as pd\n",
    "import mysql.connector\n",
    "import pyodbc\n",
    "import string\n",
    "import json"
   ]
  },
  {
   "cell_type": "code",
   "execution_count": 38,
   "id": "bd65072c",
   "metadata": {},
   "outputs": [],
   "source": [
    "#Functions\n",
    "def remove_punctuation(text):\n",
    "    punctuationfree=\"\".join([i for i in text if i not in string.punctuation])\n",
    "    return punctuationfree"
   ]
  },
  {
   "cell_type": "code",
   "execution_count": 39,
   "id": "2ee2f1cd",
   "metadata": {},
   "outputs": [],
   "source": []
  },
  {
   "cell_type": "code",
   "execution_count": 60,
   "id": "9f26b590",
   "metadata": {},
   "outputs": [],
   "source": [
    "foods_to_avoid = pd.read_csv('Disease_foods_to_avoid_csv.csv', delimiter = ';')\n",
    "recipes_with_ingredients = pd.read_csv('train.csv')\n",
    "#tasty_tags = pd.read_csv('tags.csv') -- worthless\n",
    "tasty_dishes = pd.read_csv('dishes.csv') \n",
    "with open('ingredient_and_instructions.json') as file:\n",
    "    tasty_json_ingredients = json.load(file)\n",
    "#ingredients_and_recipes_df = pd.DataFrame(json_ingredients)"
   ]
  },
  {
   "cell_type": "code",
   "execution_count": 105,
   "id": "b58c3b07",
   "metadata": {},
   "outputs": [
    {
     "name": "stdout",
     "output_type": "stream",
     "text": [
      "country              object\n",
      "id_                   int64\n",
      "description          object\n",
      "keywords             object\n",
      "name                 object\n",
      "cook_time             int64\n",
      "prep_time             int64\n",
      "total_time            int64\n",
      "ratings_negative      int64\n",
      "ratings_positive      int64\n",
      "score               float64\n",
      "protein             float64\n",
      "fat                 float64\n",
      "calories            float64\n",
      "sugar               float64\n",
      "carbohydrates       float64\n",
      "fiber               float64\n",
      "dtype: object\n",
      " For Breakfast,0,0,0,133,2621,96.0,13.0,19.0,242.0,0.0,3.0,0.0\r\n",
      "US,3033,,,3-ingredient Pancakes,0,0,0,533,2947,85.0,4.0,3.0,80.0,4.0,9.0,1.0\r\n",
      "US,1352,,,Chocolate Strawberry Crepes ,0,0,0,143,2779,96.0,41.0,56.0,1409.0,66.0,181.0,9.0\r\n",
      "ZZ,1477,,\"breakfast, healthy, oats, pancakes\",Banana Pancakes,0,0,0,773,2694,78.0,4.0,3.0,116.0,9.0,18.0,2.0\r\n",
      "ZZ,2267,,\"buzzfeed, cake, crepe, dessert, rainbow, tasty, tasty_vegetarian\",Rainbow Crepe Cake,0,0,0,294,1889,87.0,10.0,18.0,351.0,12.0,34.0,0.0\r\n",
      "US,1630,,\"\n"
     ]
    }
   ],
   "source": [
    "tasty_dishes_filtered = tasty_dishes[['country', 'id_', 'description', 'keywords', 'name', 'cook_time', 'prep_time', 'total_time',\n",
    "       'ratings_negative', 'ratings_positive', 'score', 'protein', 'fat',\n",
    "       'calories', 'sugar', 'carbohydrates', 'fiber']]\n",
    "\n",
    "tasty_dishes_dropped_nas = tasty_dishes_filtered.dropna(subset=['score'])\n",
    "print(tasty_dishes_dropped_nas.dtypes)\n",
    "\n",
    "tasty_dishes_dropped_nas.iloc[2967,:]\n",
    "#tasty_dishes_dropped_nas['description'] = tasty_dishes_dropped_nas['description'].astype('string').apply(lambda x: remove_punctuation(x))\n",
    "\n",
    "#tasty_dishes_dropped_nas['keyword'] = tasty_dishes_dropped_nas['keywords'].str.replace(/\\\"(.*?)\\\"/g, \"{$1}\")\n",
    "\n",
    "tasty_dishes_test_csv = tasty_dishes_dropped_nas.to_csv(index=False)\n",
    "print(tasty_dishes_test_csv[2500:3000])\n",
    "\n",
    "tasty_dishes_dropped_nas.to_csv('tasty_dishes_cleaned.csv', index=False)\n"
   ]
  },
  {
   "cell_type": "code",
   "execution_count": 75,
   "id": "85710645",
   "metadata": {},
   "outputs": [],
   "source": [
    "#library that contains punctuation\n",
    "#defining the function to remove punctuation\n",
    "def remove_punctuation_and_lower(text):\n",
    "    punctuationfree=\"\".join([i.lower() for i in text if i not in string.punctuation])\n",
    "    return punctuationfree\n",
    "#storing the puntuation free text\n",
    "recipes_with_ingredients['clean_msg']= recipes_with_ingredients['label'].apply(lambda x:remove_punctuation(x))\n",
    "\n",
    "\n",
    "def load_json_data(input_file):\n",
    "    try:\n",
    "        with open(input_file, 'r') as data_json:\n",
    "            source_data = json.load(data_json)\n",
    "        return source_data\n",
    "    except FileNotFoundError:\n",
    "        print(f\"Error: The file '{input_file}' was not found.\")\n",
    "        return None\n",
    "\n"
   ]
  },
  {
   "cell_type": "code",
   "execution_count": 30,
   "id": "f99230c1",
   "metadata": {},
   "outputs": [
    {
     "data": {
      "text/plain": [
       "label                  Infineon Raceway Baked Beans\n",
       "achiote paste                                   0.0\n",
       "achiote powder                                  0.0\n",
       "acini di pepe                                   0.0\n",
       "acorn squash                                    0.0\n",
       "                                   ...             \n",
       "yucca root                                      0.0\n",
       "yukon gold potatoes                             0.0\n",
       "yuzu juice                                      0.0\n",
       "zucchini blossoms                               0.0\n",
       "clean_msg              infineon raceway baked beans\n",
       "Name: 0, Length: 2926, dtype: object"
      ]
     },
     "execution_count": 30,
     "metadata": {},
     "output_type": "execute_result"
    }
   ],
   "source": [
    "# recipes_with_ingredients.iloc[0,:]\n",
    "# columns = recipes_with_ingredients.columns\n",
    "\n",
    "# for column in recipes_with_ingredients.columns:\n",
    "#     if recipes_with_ingredients.iloc[0, column]"
   ]
  },
  {
   "cell_type": "code",
   "execution_count": null,
   "id": "f773dfc5",
   "metadata": {},
   "outputs": [],
   "source": []
  }
 ],
 "metadata": {
  "kernelspec": {
   "display_name": "Python 3 (ipykernel)",
   "language": "python",
   "name": "python3"
  },
  "language_info": {
   "codemirror_mode": {
    "name": "ipython",
    "version": 3
   },
   "file_extension": ".py",
   "mimetype": "text/x-python",
   "name": "python",
   "nbconvert_exporter": "python",
   "pygments_lexer": "ipython3",
   "version": "3.11.5"
  }
 },
 "nbformat": 4,
 "nbformat_minor": 5
}
