{
  "cells": [
    {
      "cell_type": "markdown",
      "id": "96ec678e-b20c-4213-8616-542010f46342",
      "metadata": {
        "id": "96ec678e-b20c-4213-8616-542010f46342"
      },
      "source": [
        "\n",
        "# Dirty Entity Resolution Tutorial\n",
        "\n",
        "In this notebook we present the pyJedAI approach in the well-known ABT-BUY dataset. Dirty ER, is the process of dedeplication of one set."
      ]
    },
    {
      "cell_type": "markdown",
      "id": "5274855c-ba95-49b1-ba68-4f50ca2bbd89",
      "metadata": {
        "id": "5274855c-ba95-49b1-ba68-4f50ca2bbd89"
      },
      "source": [
        "# How to install?\n",
        "\n",
        "pyJedAI is an open-source library that can be installed from PyPI.\n",
        "\n",
        "For more: [pypi.org/project/pyjedai/](https://pypi.org/project/pyjedai/)"
      ]
    },
    {
      "cell_type": "code",
      "execution_count": 1,
      "id": "4697d149-c1a4-4767-9ed1-14444485e409",
      "metadata": {
        "colab": {
          "base_uri": "https://localhost:8080/"
        },
        "id": "4697d149-c1a4-4767-9ed1-14444485e409",
        "outputId": "ff1e02b9-88c9-4e3f-f0df-db1c510754cd"
      },
      "outputs": [
        {
          "output_type": "stream",
          "name": "stdout",
          "text": [
            "Python 3.10.12\n"
          ]
        }
      ],
      "source": [
        "!python --version"
      ]
    },
    {
      "cell_type": "code",
      "execution_count": null,
      "id": "776843a2-570d-4d87-bb1d-b5b61f07b1da",
      "metadata": {
        "id": "776843a2-570d-4d87-bb1d-b5b61f07b1da"
      },
      "outputs": [],
      "source": [
        "!pip install pyjedai -U"
      ]
    },
    {
      "cell_type": "code",
      "execution_count": 3,
      "id": "6d2e5cf7-ff2e-4271-9242-fe3d638263e9",
      "metadata": {
        "colab": {
          "base_uri": "https://localhost:8080/"
        },
        "id": "6d2e5cf7-ff2e-4271-9242-fe3d638263e9",
        "outputId": "dc919775-5b42-4514-d012-c6c7b9c104ac"
      },
      "outputs": [
        {
          "output_type": "stream",
          "name": "stdout",
          "text": [
            "Name: pyjedai\n",
            "Version: 0.1.3\n",
            "Summary: An open-source library that builds powerful end-to-end Entity Resolution workflows.\n",
            "Home-page: \n",
            "Author: \n",
            "Author-email: Konstantinos Nikoletos <nikoletos.kon@gmail.com>, George Papadakis <gpapadis84@gmail.com>, Jakub Maciejewski <jacobb.maciejewski@gmail.com>, Manolis Koubarakis <koubarak@di.uoa.gr>\n",
            "License: Apache Software License 2.0\n",
            "Location: /usr/local/lib/python3.10/dist-packages\n",
            "Requires: faiss-cpu, gensim, matplotlib, matplotlib-inline, networkx, nltk, numpy, optuna, ordered-set, pandas, pandas-profiling, pandocfilters, plotly, py-stringmatching, PyYAML, rdflib, rdfpandas, regex, scipy, seaborn, sentence-transformers, strsim, strsimpy, tomli, tqdm, transformers, valentine\n",
            "Required-by: \n"
          ]
        }
      ],
      "source": [
        "!pip show pyjedai"
      ]
    },
    {
      "cell_type": "markdown",
      "id": "15d28272-269a-4e87-bb03-0a45a5492a06",
      "metadata": {
        "id": "15d28272-269a-4e87-bb03-0a45a5492a06"
      },
      "source": [
        "Imports"
      ]
    },
    {
      "cell_type": "code",
      "execution_count": 4,
      "id": "a0890ce6-3a10-4e66-913f-78095bd786a1",
      "metadata": {
        "colab": {
          "base_uri": "https://localhost:8080/"
        },
        "id": "a0890ce6-3a10-4e66-913f-78095bd786a1",
        "outputId": "405172c3-35c2-43bd-d841-45d971cf8d17"
      },
      "outputs": [
        {
          "output_type": "stream",
          "name": "stderr",
          "text": [
            "[nltk_data] Downloading package stopwords to /root/nltk_data...\n",
            "[nltk_data]   Unzipping corpora/stopwords.zip.\n"
          ]
        }
      ],
      "source": [
        "import os\n",
        "import sys\n",
        "import pandas as pd\n",
        "import networkx\n",
        "from networkx import draw, Graph\n",
        "\n",
        "from pyjedai.utils import print_clusters, print_blocks, print_candidate_pairs\n",
        "from pyjedai.evaluation import Evaluation"
      ]
    },
    {
      "cell_type": "markdown",
      "id": "af77914f-5e76-4da8-a0ad-1c53e0111a0f",
      "metadata": {
        "tags": [],
        "id": "af77914f-5e76-4da8-a0ad-1c53e0111a0f"
      },
      "source": [
        "## Reading the dataset\n",
        "\n",
        "pyJedAI in order to perfrom needs only the tranformation of the initial data into a pandas DataFrame. Hence, pyJedAI can function in every structured or semi-structured data. In this case Abt-Buy dataset is provided as .csv files.\n",
        "\n",
        "<div align=\"center\">\n",
        "    <img align=\"center\" src=\"https://github.com/AI-team-UoA/pyJedAI/blob/main/docs/img/reading-process.png?raw=true\" width=\"800\" />\n",
        "</div>\n",
        "\n",
        "\n",
        "### pyjedai <Data\\> module\n",
        "\n",
        "Data module offers a numpber of options\n",
        "- Selecting the parameters (columns) of the dataframe, in D1 (and in D2)\n",
        "- Prints a detailed text analysis\n",
        "- Stores a hidden mapping of the ids, and creates it if not exists."
      ]
    },
    {
      "cell_type": "code",
      "execution_count": 7,
      "id": "3d3feb89-1406-4c90-a1aa-dc2cf4707739",
      "metadata": {
        "id": "3d3feb89-1406-4c90-a1aa-dc2cf4707739"
      },
      "outputs": [],
      "source": [
        "from pyjedai.datamodel import Data\n",
        "\n",
        "d1 = pd.read_csv(\"/content/people.csv\", sep=',')\n",
        "d1['name'] = d1[' given_name'].str.strip()+' '+d1[' surname'].str.strip()\n",
        "d1['address'] = d1[' street_number'].str.strip()+' '+d1[' address_1'].str.strip()+' '+d1[' address_2'].str.strip()\n",
        "\n",
        "#gt = pd.read_csv(\"./../data/der/cora/cora_gt.csv\", sep='|', header=None)\n",
        "attr = ['name','address', ' suburb',' postcode',' state' ]\n"
      ]
    },
    {
      "cell_type": "code",
      "source": [
        "d1.tail()\n"
      ],
      "metadata": {
        "colab": {
          "base_uri": "https://localhost:8080/",
          "height": 452
        },
        "id": "N0-NDr9dXZdZ",
        "outputId": "e941ee2a-da26-4bfa-d4be-3b971edddfc7"
      },
      "id": "N0-NDr9dXZdZ",
      "execution_count": 9,
      "outputs": [
        {
          "output_type": "execute_result",
          "data": {
            "text/plain": [
              "      rec_id  given_name     surname  street_number             address_1  \\\n",
              "4995    4996        jack    campbell            169           marr street   \n",
              "4996    4997     william    lazaroff             12            leah ylose   \n",
              "4997    4998    destynii    bowerman             12      halford crescent   \n",
              "4998    4999      gianni      dooley             38     ashburton circuit   \n",
              "4999    5000        jake   westbrook            231   booroondar a street   \n",
              "\n",
              "            address_2           suburb   postcode  state  date_of_birth  \\\n",
              "4995         rhosewyn         oakleigh       3356    vic       19770109   \n",
              "4996         milwlood           forbes       7256    qld                  \n",
              "4997           sutton        nollamara       2431    qld       19880821   \n",
              "4998   brentwood vlge             ryde       6025    qld       19371212   \n",
              "4999          jodayne   salisbury east       2074    nsw       19001115   \n",
              "\n",
              "                   name                              address  \n",
              "4995      jack campbell             169 marr street rhosewyn  \n",
              "4996   william lazaroff               12 leah ylose milwlood  \n",
              "4997  destynii bowerman           12 halford crescent sutton  \n",
              "4998      gianni dooley  38 ashburton circuit brentwood vlge  \n",
              "4999     jake westbrook      231 booroondar a street jodayne  "
            ],
            "text/html": [
              "\n",
              "  <div id=\"df-354128f9-892e-42fe-9c5c-5b225a697336\" class=\"colab-df-container\">\n",
              "    <div>\n",
              "<style scoped>\n",
              "    .dataframe tbody tr th:only-of-type {\n",
              "        vertical-align: middle;\n",
              "    }\n",
              "\n",
              "    .dataframe tbody tr th {\n",
              "        vertical-align: top;\n",
              "    }\n",
              "\n",
              "    .dataframe thead th {\n",
              "        text-align: right;\n",
              "    }\n",
              "</style>\n",
              "<table border=\"1\" class=\"dataframe\">\n",
              "  <thead>\n",
              "    <tr style=\"text-align: right;\">\n",
              "      <th></th>\n",
              "      <th>rec_id</th>\n",
              "      <th>given_name</th>\n",
              "      <th>surname</th>\n",
              "      <th>street_number</th>\n",
              "      <th>address_1</th>\n",
              "      <th>address_2</th>\n",
              "      <th>suburb</th>\n",
              "      <th>postcode</th>\n",
              "      <th>state</th>\n",
              "      <th>date_of_birth</th>\n",
              "      <th>name</th>\n",
              "      <th>address</th>\n",
              "    </tr>\n",
              "  </thead>\n",
              "  <tbody>\n",
              "    <tr>\n",
              "      <th>4995</th>\n",
              "      <td>4996</td>\n",
              "      <td>jack</td>\n",
              "      <td>campbell</td>\n",
              "      <td>169</td>\n",
              "      <td>marr street</td>\n",
              "      <td>rhosewyn</td>\n",
              "      <td>oakleigh</td>\n",
              "      <td>3356</td>\n",
              "      <td>vic</td>\n",
              "      <td>19770109</td>\n",
              "      <td>jack campbell</td>\n",
              "      <td>169 marr street rhosewyn</td>\n",
              "    </tr>\n",
              "    <tr>\n",
              "      <th>4996</th>\n",
              "      <td>4997</td>\n",
              "      <td>william</td>\n",
              "      <td>lazaroff</td>\n",
              "      <td>12</td>\n",
              "      <td>leah ylose</td>\n",
              "      <td>milwlood</td>\n",
              "      <td>forbes</td>\n",
              "      <td>7256</td>\n",
              "      <td>qld</td>\n",
              "      <td></td>\n",
              "      <td>william lazaroff</td>\n",
              "      <td>12 leah ylose milwlood</td>\n",
              "    </tr>\n",
              "    <tr>\n",
              "      <th>4997</th>\n",
              "      <td>4998</td>\n",
              "      <td>destynii</td>\n",
              "      <td>bowerman</td>\n",
              "      <td>12</td>\n",
              "      <td>halford crescent</td>\n",
              "      <td>sutton</td>\n",
              "      <td>nollamara</td>\n",
              "      <td>2431</td>\n",
              "      <td>qld</td>\n",
              "      <td>19880821</td>\n",
              "      <td>destynii bowerman</td>\n",
              "      <td>12 halford crescent sutton</td>\n",
              "    </tr>\n",
              "    <tr>\n",
              "      <th>4998</th>\n",
              "      <td>4999</td>\n",
              "      <td>gianni</td>\n",
              "      <td>dooley</td>\n",
              "      <td>38</td>\n",
              "      <td>ashburton circuit</td>\n",
              "      <td>brentwood vlge</td>\n",
              "      <td>ryde</td>\n",
              "      <td>6025</td>\n",
              "      <td>qld</td>\n",
              "      <td>19371212</td>\n",
              "      <td>gianni dooley</td>\n",
              "      <td>38 ashburton circuit brentwood vlge</td>\n",
              "    </tr>\n",
              "    <tr>\n",
              "      <th>4999</th>\n",
              "      <td>5000</td>\n",
              "      <td>jake</td>\n",
              "      <td>westbrook</td>\n",
              "      <td>231</td>\n",
              "      <td>booroondar a street</td>\n",
              "      <td>jodayne</td>\n",
              "      <td>salisbury east</td>\n",
              "      <td>2074</td>\n",
              "      <td>nsw</td>\n",
              "      <td>19001115</td>\n",
              "      <td>jake westbrook</td>\n",
              "      <td>231 booroondar a street jodayne</td>\n",
              "    </tr>\n",
              "  </tbody>\n",
              "</table>\n",
              "</div>\n",
              "    <div class=\"colab-df-buttons\">\n",
              "\n",
              "  <div class=\"colab-df-container\">\n",
              "    <button class=\"colab-df-convert\" onclick=\"convertToInteractive('df-354128f9-892e-42fe-9c5c-5b225a697336')\"\n",
              "            title=\"Convert this dataframe to an interactive table.\"\n",
              "            style=\"display:none;\">\n",
              "\n",
              "  <svg xmlns=\"http://www.w3.org/2000/svg\" height=\"24px\" viewBox=\"0 -960 960 960\">\n",
              "    <path d=\"M120-120v-720h720v720H120Zm60-500h600v-160H180v160Zm220 220h160v-160H400v160Zm0 220h160v-160H400v160ZM180-400h160v-160H180v160Zm440 0h160v-160H620v160ZM180-180h160v-160H180v160Zm440 0h160v-160H620v160Z\"/>\n",
              "  </svg>\n",
              "    </button>\n",
              "\n",
              "  <style>\n",
              "    .colab-df-container {\n",
              "      display:flex;\n",
              "      gap: 12px;\n",
              "    }\n",
              "\n",
              "    .colab-df-convert {\n",
              "      background-color: #E8F0FE;\n",
              "      border: none;\n",
              "      border-radius: 50%;\n",
              "      cursor: pointer;\n",
              "      display: none;\n",
              "      fill: #1967D2;\n",
              "      height: 32px;\n",
              "      padding: 0 0 0 0;\n",
              "      width: 32px;\n",
              "    }\n",
              "\n",
              "    .colab-df-convert:hover {\n",
              "      background-color: #E2EBFA;\n",
              "      box-shadow: 0px 1px 2px rgba(60, 64, 67, 0.3), 0px 1px 3px 1px rgba(60, 64, 67, 0.15);\n",
              "      fill: #174EA6;\n",
              "    }\n",
              "\n",
              "    .colab-df-buttons div {\n",
              "      margin-bottom: 4px;\n",
              "    }\n",
              "\n",
              "    [theme=dark] .colab-df-convert {\n",
              "      background-color: #3B4455;\n",
              "      fill: #D2E3FC;\n",
              "    }\n",
              "\n",
              "    [theme=dark] .colab-df-convert:hover {\n",
              "      background-color: #434B5C;\n",
              "      box-shadow: 0px 1px 3px 1px rgba(0, 0, 0, 0.15);\n",
              "      filter: drop-shadow(0px 1px 2px rgba(0, 0, 0, 0.3));\n",
              "      fill: #FFFFFF;\n",
              "    }\n",
              "  </style>\n",
              "\n",
              "    <script>\n",
              "      const buttonEl =\n",
              "        document.querySelector('#df-354128f9-892e-42fe-9c5c-5b225a697336 button.colab-df-convert');\n",
              "      buttonEl.style.display =\n",
              "        google.colab.kernel.accessAllowed ? 'block' : 'none';\n",
              "\n",
              "      async function convertToInteractive(key) {\n",
              "        const element = document.querySelector('#df-354128f9-892e-42fe-9c5c-5b225a697336');\n",
              "        const dataTable =\n",
              "          await google.colab.kernel.invokeFunction('convertToInteractive',\n",
              "                                                    [key], {});\n",
              "        if (!dataTable) return;\n",
              "\n",
              "        const docLinkHtml = 'Like what you see? Visit the ' +\n",
              "          '<a target=\"_blank\" href=https://colab.research.google.com/notebooks/data_table.ipynb>data table notebook</a>'\n",
              "          + ' to learn more about interactive tables.';\n",
              "        element.innerHTML = '';\n",
              "        dataTable['output_type'] = 'display_data';\n",
              "        await google.colab.output.renderOutput(dataTable, element);\n",
              "        const docLink = document.createElement('div');\n",
              "        docLink.innerHTML = docLinkHtml;\n",
              "        element.appendChild(docLink);\n",
              "      }\n",
              "    </script>\n",
              "  </div>\n",
              "\n",
              "\n",
              "<div id=\"df-5f15036e-3a8b-4f6a-92db-926576fa802b\">\n",
              "  <button class=\"colab-df-quickchart\" onclick=\"quickchart('df-5f15036e-3a8b-4f6a-92db-926576fa802b')\"\n",
              "            title=\"Suggest charts\"\n",
              "            style=\"display:none;\">\n",
              "\n",
              "<svg xmlns=\"http://www.w3.org/2000/svg\" height=\"24px\"viewBox=\"0 0 24 24\"\n",
              "     width=\"24px\">\n",
              "    <g>\n",
              "        <path d=\"M19 3H5c-1.1 0-2 .9-2 2v14c0 1.1.9 2 2 2h14c1.1 0 2-.9 2-2V5c0-1.1-.9-2-2-2zM9 17H7v-7h2v7zm4 0h-2V7h2v10zm4 0h-2v-4h2v4z\"/>\n",
              "    </g>\n",
              "</svg>\n",
              "  </button>\n",
              "\n",
              "<style>\n",
              "  .colab-df-quickchart {\n",
              "      --bg-color: #E8F0FE;\n",
              "      --fill-color: #1967D2;\n",
              "      --hover-bg-color: #E2EBFA;\n",
              "      --hover-fill-color: #174EA6;\n",
              "      --disabled-fill-color: #AAA;\n",
              "      --disabled-bg-color: #DDD;\n",
              "  }\n",
              "\n",
              "  [theme=dark] .colab-df-quickchart {\n",
              "      --bg-color: #3B4455;\n",
              "      --fill-color: #D2E3FC;\n",
              "      --hover-bg-color: #434B5C;\n",
              "      --hover-fill-color: #FFFFFF;\n",
              "      --disabled-bg-color: #3B4455;\n",
              "      --disabled-fill-color: #666;\n",
              "  }\n",
              "\n",
              "  .colab-df-quickchart {\n",
              "    background-color: var(--bg-color);\n",
              "    border: none;\n",
              "    border-radius: 50%;\n",
              "    cursor: pointer;\n",
              "    display: none;\n",
              "    fill: var(--fill-color);\n",
              "    height: 32px;\n",
              "    padding: 0;\n",
              "    width: 32px;\n",
              "  }\n",
              "\n",
              "  .colab-df-quickchart:hover {\n",
              "    background-color: var(--hover-bg-color);\n",
              "    box-shadow: 0 1px 2px rgba(60, 64, 67, 0.3), 0 1px 3px 1px rgba(60, 64, 67, 0.15);\n",
              "    fill: var(--button-hover-fill-color);\n",
              "  }\n",
              "\n",
              "  .colab-df-quickchart-complete:disabled,\n",
              "  .colab-df-quickchart-complete:disabled:hover {\n",
              "    background-color: var(--disabled-bg-color);\n",
              "    fill: var(--disabled-fill-color);\n",
              "    box-shadow: none;\n",
              "  }\n",
              "\n",
              "  .colab-df-spinner {\n",
              "    border: 2px solid var(--fill-color);\n",
              "    border-color: transparent;\n",
              "    border-bottom-color: var(--fill-color);\n",
              "    animation:\n",
              "      spin 1s steps(1) infinite;\n",
              "  }\n",
              "\n",
              "  @keyframes spin {\n",
              "    0% {\n",
              "      border-color: transparent;\n",
              "      border-bottom-color: var(--fill-color);\n",
              "      border-left-color: var(--fill-color);\n",
              "    }\n",
              "    20% {\n",
              "      border-color: transparent;\n",
              "      border-left-color: var(--fill-color);\n",
              "      border-top-color: var(--fill-color);\n",
              "    }\n",
              "    30% {\n",
              "      border-color: transparent;\n",
              "      border-left-color: var(--fill-color);\n",
              "      border-top-color: var(--fill-color);\n",
              "      border-right-color: var(--fill-color);\n",
              "    }\n",
              "    40% {\n",
              "      border-color: transparent;\n",
              "      border-right-color: var(--fill-color);\n",
              "      border-top-color: var(--fill-color);\n",
              "    }\n",
              "    60% {\n",
              "      border-color: transparent;\n",
              "      border-right-color: var(--fill-color);\n",
              "    }\n",
              "    80% {\n",
              "      border-color: transparent;\n",
              "      border-right-color: var(--fill-color);\n",
              "      border-bottom-color: var(--fill-color);\n",
              "    }\n",
              "    90% {\n",
              "      border-color: transparent;\n",
              "      border-bottom-color: var(--fill-color);\n",
              "    }\n",
              "  }\n",
              "</style>\n",
              "\n",
              "  <script>\n",
              "    async function quickchart(key) {\n",
              "      const quickchartButtonEl =\n",
              "        document.querySelector('#' + key + ' button');\n",
              "      quickchartButtonEl.disabled = true;  // To prevent multiple clicks.\n",
              "      quickchartButtonEl.classList.add('colab-df-spinner');\n",
              "      try {\n",
              "        const charts = await google.colab.kernel.invokeFunction(\n",
              "            'suggestCharts', [key], {});\n",
              "      } catch (error) {\n",
              "        console.error('Error during call to suggestCharts:', error);\n",
              "      }\n",
              "      quickchartButtonEl.classList.remove('colab-df-spinner');\n",
              "      quickchartButtonEl.classList.add('colab-df-quickchart-complete');\n",
              "    }\n",
              "    (() => {\n",
              "      let quickchartButtonEl =\n",
              "        document.querySelector('#df-5f15036e-3a8b-4f6a-92db-926576fa802b button');\n",
              "      quickchartButtonEl.style.display =\n",
              "        google.colab.kernel.accessAllowed ? 'block' : 'none';\n",
              "    })();\n",
              "  </script>\n",
              "</div>\n",
              "    </div>\n",
              "  </div>\n"
            ]
          },
          "metadata": {},
          "execution_count": 9
        }
      ]
    },
    {
      "cell_type": "markdown",
      "id": "fda32323-c74d-4374-b322-5c11a175c3ea",
      "metadata": {
        "id": "fda32323-c74d-4374-b322-5c11a175c3ea"
      },
      "source": [
        "Data is the connecting module of all steps of the workflow"
      ]
    },
    {
      "cell_type": "code",
      "execution_count": 11,
      "id": "e257597d-ea77-4090-ba34-e1038d8f9a0d",
      "metadata": {
        "id": "e257597d-ea77-4090-ba34-e1038d8f9a0d"
      },
      "outputs": [],
      "source": [
        "data = Data(\n",
        "    dataset_1=d1,\n",
        "    id_column_name_1='rec_id',\n",
        "    #ground_truth=gt,\n",
        "    attributes_1=attr\n",
        ")"
      ]
    },
    {
      "cell_type": "markdown",
      "id": "93464edd-b88a-40d9-aa4d-7fe1523db662",
      "metadata": {
        "id": "93464edd-b88a-40d9-aa4d-7fe1523db662"
      },
      "source": [
        "## Workflow with Block Cleaning Methods\n",
        "\n",
        "In this notebook we created the bellow architecture:\n",
        "\n",
        "![workflow1-cora.png](https://github.com/AI-team-UoA/pyJedAI/blob/main/docs/img/workflow1-cora.png?raw=true)\n",
        "\n"
      ]
    },
    {
      "cell_type": "markdown",
      "id": "9c068252-4a69-405a-a320-c2875ec08ea5",
      "metadata": {
        "id": "9c068252-4a69-405a-a320-c2875ec08ea5"
      },
      "source": [
        "## Block Building\n",
        "\n",
        "It clusters entities into overlapping blocks in a lazy manner that relies on unsupervised blocking keys: every token in an attribute value forms a key. Blocks are then extracted, possibly using a transformation, based on its equality or on its similarity with other keys.\n",
        "\n",
        "The following methods are currently supported:\n",
        "\n",
        "- Standard/Token Blocking\n",
        "- Sorted Neighborhood\n",
        "- Extended Sorted Neighborhood\n",
        "- Q-Grams Blocking\n",
        "- Extended Q-Grams Blocking\n",
        "- Suffix Arrays Blocking\n",
        "- Extended Suffix Arrays Blocking"
      ]
    },
    {
      "cell_type": "code",
      "execution_count": 12,
      "id": "9c1b6213-a218-40cf-bc72-801b77d28da9",
      "metadata": {
        "id": "9c1b6213-a218-40cf-bc72-801b77d28da9"
      },
      "outputs": [],
      "source": [
        "from pyjedai.block_building import (\n",
        "    StandardBlocking,\n",
        "    QGramsBlocking,\n",
        "    SuffixArraysBlocking,\n",
        "    ExtendedSuffixArraysBlocking,\n",
        "    ExtendedQGramsBlocking\n",
        ")"
      ]
    },
    {
      "cell_type": "code",
      "execution_count": 13,
      "id": "7ee34038-1352-440e-8c34-98c5cf036523",
      "metadata": {
        "colab": {
          "base_uri": "https://localhost:8080/",
          "height": 49,
          "referenced_widgets": [
            "4360b1062dfb4e8b99af306661c1e5ea",
            "a9cbb3c12d3349659c4c752dca1f63a5",
            "fccebd785e744750a1f933b8119ebb37",
            "73918323025f45d18a3d64edf6260f4b",
            "9f97ee77fc88441c8a89ac6a860655e0",
            "2300fc67bd7e41dcb910c8476688709b",
            "f0ccd68d70274b2e86c443377dc9db95",
            "d03d768307d844fbbc64d9c9322179d3",
            "f1459f168bc64479908457ccb95f63b1",
            "04162553dd9d428287366bace62059cc",
            "1c8dc01a7b2e41739db600318f3b4316"
          ]
        },
        "id": "7ee34038-1352-440e-8c34-98c5cf036523",
        "outputId": "c81aa03f-88b9-4ab6-cfe4-08585ddbaf82"
      },
      "outputs": [
        {
          "output_type": "display_data",
          "data": {
            "text/plain": [
              "Suffix Arrays Blocking:   0%|          | 0/5000 [00:00<?, ?it/s]"
            ],
            "application/vnd.jupyter.widget-view+json": {
              "version_major": 2,
              "version_minor": 0,
              "model_id": "4360b1062dfb4e8b99af306661c1e5ea"
            }
          },
          "metadata": {}
        }
      ],
      "source": [
        "bb = SuffixArraysBlocking(suffix_length=2)\n",
        "blocks = bb.build_blocks(data)"
      ]
    },
    {
      "cell_type": "code",
      "execution_count": null,
      "id": "b0ac846d-0f13-4b90-b4c8-688054ed7ffe",
      "metadata": {
        "id": "b0ac846d-0f13-4b90-b4c8-688054ed7ffe"
      },
      "outputs": [],
      "source": [
        "_ = bb.evaluate(blocks)"
      ]
    },
    {
      "cell_type": "markdown",
      "id": "9fd79ed0-4073-4789-9f9c-09e61da1f4ef",
      "metadata": {
        "id": "9fd79ed0-4073-4789-9f9c-09e61da1f4ef"
      },
      "source": [
        "## Block Purging\n",
        "\n",
        "__Optional step__\n",
        "\n",
        "Discards the blocks exceeding a certain number of comparisons.\n"
      ]
    },
    {
      "cell_type": "code",
      "execution_count": 14,
      "id": "ca78a044-589d-48c1-b508-72d5d3205a1c",
      "metadata": {
        "id": "ca78a044-589d-48c1-b508-72d5d3205a1c"
      },
      "outputs": [],
      "source": [
        "from pyjedai.block_cleaning import BlockPurging"
      ]
    },
    {
      "cell_type": "code",
      "execution_count": 15,
      "id": "56f77f40-1c76-4f03-b0dd-5bb592f586e0",
      "metadata": {
        "colab": {
          "base_uri": "https://localhost:8080/",
          "height": 49,
          "referenced_widgets": [
            "246c6755932f4213bf5ce102df162aec",
            "0cf4e524c5904d81a3cd28f1af8ba7f7",
            "e5d50ea3ffe544d7a2879768e0c69f83",
            "6cc70597b2f249738a2ad9c44adcdd5a",
            "2ee28895cee74cd1a76e54c1e9cf494e",
            "c20eab9977524d858d277242387c8a72",
            "01c7a53622e24a6c86522fcdde2bd953",
            "b1d7628628d9441c8459e0f6c6760f66",
            "cbf663492a5047b0b03407a9b8c1fbe6",
            "5dc8658cb5294369936e3c4ad41e70cb",
            "e7b69afbf38e47c9adad6b63da179f0f"
          ]
        },
        "id": "56f77f40-1c76-4f03-b0dd-5bb592f586e0",
        "outputId": "e0fb8a62-2225-4a7e-ada0-f3f739c3c570"
      },
      "outputs": [
        {
          "output_type": "display_data",
          "data": {
            "text/plain": [
              "Block Purging:   0%|          | 0/30772 [00:00<?, ?it/s]"
            ],
            "application/vnd.jupyter.widget-view+json": {
              "version_major": 2,
              "version_minor": 0,
              "model_id": "246c6755932f4213bf5ce102df162aec"
            }
          },
          "metadata": {}
        }
      ],
      "source": [
        "bp = BlockPurging()\n",
        "cleaned_blocks = bp.process(blocks, data, tqdm_disable=False)"
      ]
    },
    {
      "cell_type": "code",
      "execution_count": 16,
      "id": "9ad1950f-9c89-484e-926e-54892dcd93d6",
      "metadata": {
        "colab": {
          "base_uri": "https://localhost:8080/"
        },
        "id": "9ad1950f-9c89-484e-926e-54892dcd93d6",
        "outputId": "1b10939a-aa39-485b-e9d3-733fb8daeb35"
      },
      "outputs": [
        {
          "output_type": "stream",
          "name": "stdout",
          "text": [
            "Method name: Block Purging\n",
            "Method info: Discards the blocks exceeding a certain number of comparisons.\n",
            "Parameters: \n",
            "\tSmoothing factor: 1.025\n",
            "\tMax Comparisons per Block: 1378.0\n",
            "Runtime: 0.2141 seconds\n"
          ]
        }
      ],
      "source": [
        "bp.report()"
      ]
    },
    {
      "cell_type": "code",
      "execution_count": null,
      "id": "e3a7cbdf-7ed5-499d-b8da-aa7da3167660",
      "metadata": {
        "id": "e3a7cbdf-7ed5-499d-b8da-aa7da3167660"
      },
      "outputs": [],
      "source": [
        "_ = bp.evaluate(cleaned_blocks)"
      ]
    },
    {
      "cell_type": "markdown",
      "id": "62b067d8-fbc4-4689-ba72-7ab5baf88a70",
      "metadata": {
        "tags": [],
        "id": "62b067d8-fbc4-4689-ba72-7ab5baf88a70"
      },
      "source": [
        "## Block Cleaning\n",
        "\n",
        "___Optional step___\n",
        "\n",
        "Its goal is to clean a set of overlapping blocks from unnecessary comparisons, which can be either redundant (i.e., repeated comparisons that have already been executed in a previously examined block) or superfluous (i.e., comparisons that involve non-matching entities). Its methods operate on the coarse level of individual blocks or entities."
      ]
    },
    {
      "cell_type": "code",
      "execution_count": 17,
      "id": "9c2c0e42-485a-444e-9161-975f30d21a02",
      "metadata": {
        "id": "9c2c0e42-485a-444e-9161-975f30d21a02"
      },
      "outputs": [],
      "source": [
        "from pyjedai.block_cleaning import BlockFiltering"
      ]
    },
    {
      "cell_type": "code",
      "execution_count": 18,
      "id": "bf5c20ac-b16a-484d-82b0-61ecb9e7f3ea",
      "metadata": {
        "colab": {
          "base_uri": "https://localhost:8080/",
          "height": 49,
          "referenced_widgets": [
            "d878363fd0f54ba4b73decf2079e5047",
            "68253a2f1d8048fd9e4cff4a7defe08d",
            "1379195688ea43babc365cbd13e104a5",
            "76fb81606d7a4f0ba1cd8c00f1dd9c07",
            "2fa9b36ee88e4e2ab2307156c28e771f",
            "99e7950d2d9046738c3cbfb587c79a71",
            "7418fc702bb34eee9ba3ea1af9c27ffe",
            "6a3e54fc9a0d453b8c96b501d3dc0fc9",
            "64e7447d9127464f9423540366618125",
            "f4d4a9d047a9458bb3ae8495d0701021",
            "a0d42b64f051436d9268602093890ea7"
          ]
        },
        "id": "bf5c20ac-b16a-484d-82b0-61ecb9e7f3ea",
        "outputId": "f241f3cb-36c3-44a2-8829-f3024a722ee4"
      },
      "outputs": [
        {
          "output_type": "display_data",
          "data": {
            "text/plain": [
              "Block Filtering:   0%|          | 0/3 [00:00<?, ?it/s]"
            ],
            "application/vnd.jupyter.widget-view+json": {
              "version_major": 2,
              "version_minor": 0,
              "model_id": "d878363fd0f54ba4b73decf2079e5047"
            }
          },
          "metadata": {}
        }
      ],
      "source": [
        "bc = BlockFiltering(ratio=0.9)\n",
        "blocks = bc.process(blocks, data)"
      ]
    },
    {
      "cell_type": "code",
      "execution_count": null,
      "id": "25fd0be0-91c3-4d0b-b596-c66dccba3c79",
      "metadata": {
        "id": "25fd0be0-91c3-4d0b-b596-c66dccba3c79"
      },
      "outputs": [],
      "source": [
        "_ = bc.evaluate(blocks)"
      ]
    },
    {
      "cell_type": "markdown",
      "id": "9cd12048-bd0c-4571-ba70-488d46afcdd6",
      "metadata": {
        "id": "9cd12048-bd0c-4571-ba70-488d46afcdd6"
      },
      "source": [
        "## Comparison Cleaning -  Meta Blocking\n",
        "\n",
        "___Optional step___\n",
        "\n",
        "Similar to Block Cleaning, this step aims to clean a set of blocks from both redundant and superfluous comparisons. Unlike Block Cleaning, its methods operate on the finer granularity of individual comparisons.\n",
        "\n",
        "The following methods are currently supported:\n",
        "\n",
        "- Comparison Propagation\n",
        "- Cardinality Edge Pruning (CEP)\n",
        "- Cardinality Node Pruning (CNP)\n",
        "- Weighed Edge Pruning (WEP)\n",
        "- Weighed Node Pruning (WNP)\n",
        "- Reciprocal Cardinality Node Pruning (ReCNP)\n",
        "- Reciprocal Weighed Node Pruning (ReWNP)\n",
        "- BLAST\n",
        "\n",
        "Most of these methods are Meta-blocking techniques. All methods are optional, but competive, in the sense that only one of them can part of an ER workflow. For more details on the functionality of these methods, see here. They can be combined with one of the following weighting schemes:\n",
        "\n",
        "- Aggregate Reciprocal Comparisons Scheme (ARCS)\n",
        "- Common Blocks Scheme (CBS)\n",
        "- Enhanced Common Blocks Scheme (ECBS)\n",
        "- Jaccard Scheme (JS)\n",
        "- Enhanced Jaccard Scheme (EJS)"
      ]
    },
    {
      "cell_type": "code",
      "execution_count": 19,
      "id": "1f7d75f3-6bed-482d-a572-c3b4927236a5",
      "metadata": {
        "id": "1f7d75f3-6bed-482d-a572-c3b4927236a5"
      },
      "outputs": [],
      "source": [
        "from pyjedai.comparison_cleaning import (\n",
        "    WeightedEdgePruning,\n",
        "    WeightedNodePruning,\n",
        "    CardinalityEdgePruning,\n",
        "    CardinalityNodePruning,\n",
        "    BLAST,\n",
        "    ReciprocalCardinalityNodePruning,\n",
        "    ComparisonPropagation\n",
        ")"
      ]
    },
    {
      "cell_type": "code",
      "execution_count": 20,
      "id": "c92e0ca3-5591-4620-b3f4-012a23637416",
      "metadata": {
        "colab": {
          "base_uri": "https://localhost:8080/",
          "height": 49,
          "referenced_widgets": [
            "e44fe7f2c26d457e9f3d109527d622e3",
            "9f79e2ded9b647edabdb5e2df865f792",
            "ea6820317211487e8e46634394d442a5",
            "c9f9f9f99d92430f995305e7ae345933",
            "5dca7f2d51c04d8cadff8fd5403eec9e",
            "a1e4bf1086944bfd8b31bae7a2125388",
            "0ec0a08f3c9b4e95aac70dac1a9b5317",
            "ca692f7baec34f8282bebb095df88825",
            "495d4b09800341bda62aba9ad0ae5c62",
            "d24bc72ff6584491ac12ce01603cb73a",
            "5025b7931aa446eba30cc7f0da17ac52"
          ]
        },
        "id": "c92e0ca3-5591-4620-b3f4-012a23637416",
        "outputId": "c34d4a86-1e73-4f21-fef7-466af8c2c847"
      },
      "outputs": [
        {
          "output_type": "display_data",
          "data": {
            "text/plain": [
              "Weighted Edge Pruning:   0%|          | 0/5000 [00:00<?, ?it/s]"
            ],
            "application/vnd.jupyter.widget-view+json": {
              "version_major": 2,
              "version_minor": 0,
              "model_id": "e44fe7f2c26d457e9f3d109527d622e3"
            }
          },
          "metadata": {}
        }
      ],
      "source": [
        "mb = WeightedEdgePruning(weighting_scheme='CBS')\n",
        "blocks = mb.process(blocks, data)"
      ]
    },
    {
      "cell_type": "code",
      "execution_count": null,
      "id": "f469e387-e135-4945-b97f-da14d391c6b1",
      "metadata": {
        "id": "f469e387-e135-4945-b97f-da14d391c6b1"
      },
      "outputs": [],
      "source": [
        "_ = mb.evaluate(blocks)"
      ]
    },
    {
      "cell_type": "markdown",
      "id": "6aeff39a-b51b-4166-a55b-f8452ec258a7",
      "metadata": {
        "id": "6aeff39a-b51b-4166-a55b-f8452ec258a7"
      },
      "source": [
        "## Entity Matching\n",
        "\n",
        "It compares pairs of entity profiles, associating every pair with a similarity in [0,1]. Its output comprises the similarity graph, i.e., an undirected, weighted graph where the nodes correspond to entities and the edges connect pairs of compared entities."
      ]
    },
    {
      "cell_type": "code",
      "execution_count": 21,
      "id": "f479d967-8bac-4870-99bd-68c01e75747b",
      "metadata": {
        "id": "f479d967-8bac-4870-99bd-68c01e75747b"
      },
      "outputs": [],
      "source": [
        "from pyjedai.matching import EntityMatching"
      ]
    },
    {
      "cell_type": "code",
      "execution_count": 22,
      "id": "bcb37bf3-1da1-4830-9659-41cf85a536a9",
      "metadata": {
        "colab": {
          "base_uri": "https://localhost:8080/",
          "height": 49,
          "referenced_widgets": [
            "7e93ba37a343455aa0b76eee59278b9f",
            "8cb40af0c6d14e0fa41dc79afc4face4",
            "d597ac7cb595411ea9b0e1cd84e5a214",
            "a6ac6fd250f74c029326a04fc094cb2d",
            "891a1983bbe348af9b265504b43f0e51",
            "f438649d83af48a9b86914caadfc20bc",
            "e5b2abeb2be14cdb92b1e6bb9550ec6a",
            "ce018d84fc9247a2bde0faef04bdaffb",
            "26c4a99a99cd4f4ea962bae608056d7a",
            "ef11915906bb40e8981cec87f551cccf",
            "2a755619e5324d928084e15236ab7683"
          ]
        },
        "id": "bcb37bf3-1da1-4830-9659-41cf85a536a9",
        "outputId": "a53fb421-51b4-4bd1-b483-3c16a7a74058"
      },
      "outputs": [
        {
          "output_type": "display_data",
          "data": {
            "text/plain": [
              "Entity Matching (jaccard, white_space_tokenizer):   0%|          | 0/4600 [00:00<?, ?it/s]"
            ],
            "application/vnd.jupyter.widget-view+json": {
              "version_major": 2,
              "version_minor": 0,
              "model_id": "7e93ba37a343455aa0b76eee59278b9f"
            }
          },
          "metadata": {}
        }
      ],
      "source": [
        "em = EntityMatching(\n",
        "    metric='jaccard',\n",
        "    similarity_threshold=0.0\n",
        ")\n",
        "\n",
        "pairs_graph = em.predict(blocks, data)"
      ]
    },
    {
      "cell_type": "code",
      "execution_count": 23,
      "id": "4d606bfc-3265-4042-93f3-22a1117c4886",
      "metadata": {
        "colab": {
          "base_uri": "https://localhost:8080/",
          "height": 516
        },
        "id": "4d606bfc-3265-4042-93f3-22a1117c4886",
        "outputId": "9beef071-764c-407c-ba15-0b511adbedcd"
      },
      "outputs": [
        {
          "output_type": "display_data",
          "data": {
            "text/plain": [
              "<Figure size 640x480 with 1 Axes>"
            ],
            "image/png": "[encoded data removed]"
          },
          "metadata": {}
        }
      ],
      "source": [
        "draw(pairs_graph)"
      ]
    },
    {
      "cell_type": "code",
      "execution_count": null,
      "id": "00bc2e82-9bc1-4119-b8cb-4a1c18afee19",
      "metadata": {
        "id": "00bc2e82-9bc1-4119-b8cb-4a1c18afee19"
      },
      "outputs": [],
      "source": [
        "_ = em.evaluate(pairs_graph)"
      ]
    },
    {
      "cell_type": "markdown",
      "id": "607ee1fb-bed4-4751-9fa8-429874457f72",
      "metadata": {
        "id": "607ee1fb-bed4-4751-9fa8-429874457f72"
      },
      "source": [
        "### How to set a valid similarity threshold?\n",
        "\n",
        "Configure similariy threshold with a Grid-Search or with an Optuna search. Also pyJedAI provides some visualizations on the distributions of the scores.\n",
        "\n",
        "For example with a classic histogram:\n"
      ]
    },
    {
      "cell_type": "code",
      "execution_count": 24,
      "id": "c04c0482-a0d2-4ebf-b9c8-f6cff1863e5d",
      "metadata": {
        "colab": {
          "base_uri": "https://localhost:8080/",
          "height": 522
        },
        "id": "c04c0482-a0d2-4ebf-b9c8-f6cff1863e5d",
        "outputId": "fdd41735-9155-4597-9eb4-1c73db011e7f"
      },
      "outputs": [
        {
          "output_type": "display_data",
          "data": {
            "text/plain": [
              "<Figure size 1000x600 with 1 Axes>"
            ],
            "image/png": "[encoded data removed]"
          },
          "metadata": {}
        }
      ],
      "source": [
        "em.plot_distribution_of_all_weights()"
      ]
    },
    {
      "cell_type": "markdown",
      "id": "75b6218c-3983-413e-a904-53bba33ea381",
      "metadata": {
        "id": "75b6218c-3983-413e-a904-53bba33ea381"
      },
      "source": [
        "Or with a range 0.1 from 0.0 to 1.0 grouping:"
      ]
    },
    {
      "cell_type": "code",
      "execution_count": 25,
      "id": "3e624fb5-cb48-4081-b90f-0e59adf88d26",
      "metadata": {
        "colab": {
          "base_uri": "https://localhost:8080/",
          "height": 645
        },
        "id": "3e624fb5-cb48-4081-b90f-0e59adf88d26",
        "outputId": "b98cf699-64e8-47f5-e133-eccf1be54ea7"
      },
      "outputs": [
        {
          "output_type": "stream",
          "name": "stdout",
          "text": [
            "Distribution-% of predicted scores:  [71.53070681469993, 15.986079325149893, 1.2672353464091846, 1.9481379205991942, 2.740632861114789, 3.0754099600915437, 2.2999375839306992, 0.9835259404966805, 0.16833424750808573, 0.0]\n"
          ]
        },
        {
          "output_type": "display_data",
          "data": {
            "text/plain": [
              "<Figure size 1000x600 with 1 Axes>"
            ],
            "image/png": "[encoded data removed]"
          },
          "metadata": {}
        }
      ],
      "source": [
        "em.plot_distribution_of_scores()"
      ]
    },
    {
      "cell_type": "markdown",
      "id": "93b72120-4578-4d5c-a408-a24ee78bf6cb",
      "metadata": {
        "id": "93b72120-4578-4d5c-a408-a24ee78bf6cb"
      },
      "source": [
        "## Entity Clustering\n",
        "\n",
        "It takes as input the similarity graph produced by Entity Matching and partitions it into a set of equivalence clusters, with every cluster corresponding to a distinct real-world object."
      ]
    },
    {
      "cell_type": "code",
      "execution_count": 26,
      "id": "500d2ef7-7017-4dba-bbea-acdba8abf5b7",
      "metadata": {
        "id": "500d2ef7-7017-4dba-bbea-acdba8abf5b7"
      },
      "outputs": [],
      "source": [
        "from pyjedai.clustering import ConnectedComponentsClustering"
      ]
    },
    {
      "cell_type": "code",
      "execution_count": 27,
      "id": "aebd9329-3a4b-48c9-bd05-c7bd4aed3ca9",
      "metadata": {
        "id": "aebd9329-3a4b-48c9-bd05-c7bd4aed3ca9"
      },
      "outputs": [],
      "source": [
        "ec = ConnectedComponentsClustering()\n",
        "clusters = ec.process(pairs_graph, data, similarity_threshold=0.3)"
      ]
    },
    {
      "cell_type": "code",
      "source": [
        "df = ec.export_to_df(clusters)\n",
        "df.head()"
      ],
      "metadata": {
        "colab": {
          "base_uri": "https://localhost:8080/",
          "height": 206
        },
        "id": "xV4wqH-pZ2Ul",
        "outputId": "b3ab0577-1115-444f-836d-25cf50569640"
      },
      "id": "xV4wqH-pZ2Ul",
      "execution_count": 28,
      "outputs": [
        {
          "output_type": "execute_result",
          "data": {
            "text/plain": [
              "    id1   id2\n",
              "0    17  4029\n",
              "1    17  1008\n",
              "2  4029  1008\n",
              "3  3497  3290\n",
              "4  3497     3"
            ],
            "text/html": [
              "\n",
              "  <div id=\"df-17f4662e-0809-49e9-a772-e9761b6dc2c8\" class=\"colab-df-container\">\n",
              "    <div>\n",
              "<style scoped>\n",
              "    .dataframe tbody tr th:only-of-type {\n",
              "        vertical-align: middle;\n",
              "    }\n",
              "\n",
              "    .dataframe tbody tr th {\n",
              "        vertical-align: top;\n",
              "    }\n",
              "\n",
              "    .dataframe thead th {\n",
              "        text-align: right;\n",
              "    }\n",
              "</style>\n",
              "<table border=\"1\" class=\"dataframe\">\n",
              "  <thead>\n",
              "    <tr style=\"text-align: right;\">\n",
              "      <th></th>\n",
              "      <th>id1</th>\n",
              "      <th>id2</th>\n",
              "    </tr>\n",
              "  </thead>\n",
              "  <tbody>\n",
              "    <tr>\n",
              "      <th>0</th>\n",
              "      <td>17</td>\n",
              "      <td>4029</td>\n",
              "    </tr>\n",
              "    <tr>\n",
              "      <th>1</th>\n",
              "      <td>17</td>\n",
              "      <td>1008</td>\n",
              "    </tr>\n",
              "    <tr>\n",
              "      <th>2</th>\n",
              "      <td>4029</td>\n",
              "      <td>1008</td>\n",
              "    </tr>\n",
              "    <tr>\n",
              "      <th>3</th>\n",
              "      <td>3497</td>\n",
              "      <td>3290</td>\n",
              "    </tr>\n",
              "    <tr>\n",
              "      <th>4</th>\n",
              "      <td>3497</td>\n",
              "      <td>3</td>\n",
              "    </tr>\n",
              "  </tbody>\n",
              "</table>\n",
              "</div>\n",
              "    <div class=\"colab-df-buttons\">\n",
              "\n",
              "  <div class=\"colab-df-container\">\n",
              "    <button class=\"colab-df-convert\" onclick=\"convertToInteractive('df-17f4662e-0809-49e9-a772-e9761b6dc2c8')\"\n",
              "            title=\"Convert this dataframe to an interactive table.\"\n",
              "            style=\"display:none;\">\n",
              "\n",
              "  <svg xmlns=\"http://www.w3.org/2000/svg\" height=\"24px\" viewBox=\"0 -960 960 960\">\n",
              "    <path d=\"M120-120v-720h720v720H120Zm60-500h600v-160H180v160Zm220 220h160v-160H400v160Zm0 220h160v-160H400v160ZM180-400h160v-160H180v160Zm440 0h160v-160H620v160ZM180-180h160v-160H180v160Zm440 0h160v-160H620v160Z\"/>\n",
              "  </svg>\n",
              "    </button>\n",
              "\n",
              "  <style>\n",
              "    .colab-df-container {\n",
              "      display:flex;\n",
              "      gap: 12px;\n",
              "    }\n",
              "\n",
              "    .colab-df-convert {\n",
              "      background-color: #E8F0FE;\n",
              "      border: none;\n",
              "      border-radius: 50%;\n",
              "      cursor: pointer;\n",
              "      display: none;\n",
              "      fill: #1967D2;\n",
              "      height: 32px;\n",
              "      padding: 0 0 0 0;\n",
              "      width: 32px;\n",
              "    }\n",
              "\n",
              "    .colab-df-convert:hover {\n",
              "      background-color: #E2EBFA;\n",
              "      box-shadow: 0px 1px 2px rgba(60, 64, 67, 0.3), 0px 1px 3px 1px rgba(60, 64, 67, 0.15);\n",
              "      fill: #174EA6;\n",
              "    }\n",
              "\n",
              "    .colab-df-buttons div {\n",
              "      margin-bottom: 4px;\n",
              "    }\n",
              "\n",
              "    [theme=dark] .colab-df-convert {\n",
              "      background-color: #3B4455;\n",
              "      fill: #D2E3FC;\n",
              "    }\n",
              "\n",
              "    [theme=dark] .colab-df-convert:hover {\n",
              "      background-color: #434B5C;\n",
              "      box-shadow: 0px 1px 3px 1px rgba(0, 0, 0, 0.15);\n",
              "      filter: drop-shadow(0px 1px 2px rgba(0, 0, 0, 0.3));\n",
              "      fill: #FFFFFF;\n",
              "    }\n",
              "  </style>\n",
              "\n",
              "    <script>\n",
              "      const buttonEl =\n",
              "        document.querySelector('#df-17f4662e-0809-49e9-a772-e9761b6dc2c8 button.colab-df-convert');\n",
              "      buttonEl.style.display =\n",
              "        google.colab.kernel.accessAllowed ? 'block' : 'none';\n",
              "\n",
              "      async function convertToInteractive(key) {\n",
              "        const element = document.querySelector('#df-17f4662e-0809-49e9-a772-e9761b6dc2c8');\n",
              "        const dataTable =\n",
              "          await google.colab.kernel.invokeFunction('convertToInteractive',\n",
              "                                                    [key], {});\n",
              "        if (!dataTable) return;\n",
              "\n",
              "        const docLinkHtml = 'Like what you see? Visit the ' +\n",
              "          '<a target=\"_blank\" href=https://colab.research.google.com/notebooks/data_table.ipynb>data table notebook</a>'\n",
              "          + ' to learn more about interactive tables.';\n",
              "        element.innerHTML = '';\n",
              "        dataTable['output_type'] = 'display_data';\n",
              "        await google.colab.output.renderOutput(dataTable, element);\n",
              "        const docLink = document.createElement('div');\n",
              "        docLink.innerHTML = docLinkHtml;\n",
              "        element.appendChild(docLink);\n",
              "      }\n",
              "    </script>\n",
              "  </div>\n",
              "\n",
              "\n",
              "<div id=\"df-11f7a99b-449d-42f2-ac91-ad81597aa0cf\">\n",
              "  <button class=\"colab-df-quickchart\" onclick=\"quickchart('df-11f7a99b-449d-42f2-ac91-ad81597aa0cf')\"\n",
              "            title=\"Suggest charts\"\n",
              "            style=\"display:none;\">\n",
              "\n",
              "<svg xmlns=\"http://www.w3.org/2000/svg\" height=\"24px\"viewBox=\"0 0 24 24\"\n",
              "     width=\"24px\">\n",
              "    <g>\n",
              "        <path d=\"M19 3H5c-1.1 0-2 .9-2 2v14c0 1.1.9 2 2 2h14c1.1 0 2-.9 2-2V5c0-1.1-.9-2-2-2zM9 17H7v-7h2v7zm4 0h-2V7h2v10zm4 0h-2v-4h2v4z\"/>\n",
              "    </g>\n",
              "</svg>\n",
              "  </button>\n",
              "\n",
              "<style>\n",
              "  .colab-df-quickchart {\n",
              "      --bg-color: #E8F0FE;\n",
              "      --fill-color: #1967D2;\n",
              "      --hover-bg-color: #E2EBFA;\n",
              "      --hover-fill-color: #174EA6;\n",
              "      --disabled-fill-color: #AAA;\n",
              "      --disabled-bg-color: #DDD;\n",
              "  }\n",
              "\n",
              "  [theme=dark] .colab-df-quickchart {\n",
              "      --bg-color: #3B4455;\n",
              "      --fill-color: #D2E3FC;\n",
              "      --hover-bg-color: #434B5C;\n",
              "      --hover-fill-color: #FFFFFF;\n",
              "      --disabled-bg-color: #3B4455;\n",
              "      --disabled-fill-color: #666;\n",
              "  }\n",
              "\n",
              "  .colab-df-quickchart {\n",
              "    background-color: var(--bg-color);\n",
              "    border: none;\n",
              "    border-radius: 50%;\n",
              "    cursor: pointer;\n",
              "    display: none;\n",
              "    fill: var(--fill-color);\n",
              "    height: 32px;\n",
              "    padding: 0;\n",
              "    width: 32px;\n",
              "  }\n",
              "\n",
              "  .colab-df-quickchart:hover {\n",
              "    background-color: var(--hover-bg-color);\n",
              "    box-shadow: 0 1px 2px rgba(60, 64, 67, 0.3), 0 1px 3px 1px rgba(60, 64, 67, 0.15);\n",
              "    fill: var(--button-hover-fill-color);\n",
              "  }\n",
              "\n",
              "  .colab-df-quickchart-complete:disabled,\n",
              "  .colab-df-quickchart-complete:disabled:hover {\n",
              "    background-color: var(--disabled-bg-color);\n",
              "    fill: var(--disabled-fill-color);\n",
              "    box-shadow: none;\n",
              "  }\n",
              "\n",
              "  .colab-df-spinner {\n",
              "    border: 2px solid var(--fill-color);\n",
              "    border-color: transparent;\n",
              "    border-bottom-color: var(--fill-color);\n",
              "    animation:\n",
              "      spin 1s steps(1) infinite;\n",
              "  }\n",
              "\n",
              "  @keyframes spin {\n",
              "    0% {\n",
              "      border-color: transparent;\n",
              "      border-bottom-color: var(--fill-color);\n",
              "      border-left-color: var(--fill-color);\n",
              "    }\n",
              "    20% {\n",
              "      border-color: transparent;\n",
              "      border-left-color: var(--fill-color);\n",
              "      border-top-color: var(--fill-color);\n",
              "    }\n",
              "    30% {\n",
              "      border-color: transparent;\n",
              "      border-left-color: var(--fill-color);\n",
              "      border-top-color: var(--fill-color);\n",
              "      border-right-color: var(--fill-color);\n",
              "    }\n",
              "    40% {\n",
              "      border-color: transparent;\n",
              "      border-right-color: var(--fill-color);\n",
              "      border-top-color: var(--fill-color);\n",
              "    }\n",
              "    60% {\n",
              "      border-color: transparent;\n",
              "      border-right-color: var(--fill-color);\n",
              "    }\n",
              "    80% {\n",
              "      border-color: transparent;\n",
              "      border-right-color: var(--fill-color);\n",
              "      border-bottom-color: var(--fill-color);\n",
              "    }\n",
              "    90% {\n",
              "      border-color: transparent;\n",
              "      border-bottom-color: var(--fill-color);\n",
              "    }\n",
              "  }\n",
              "</style>\n",
              "\n",
              "  <script>\n",
              "    async function quickchart(key) {\n",
              "      const quickchartButtonEl =\n",
              "        document.querySelector('#' + key + ' button');\n",
              "      quickchartButtonEl.disabled = true;  // To prevent multiple clicks.\n",
              "      quickchartButtonEl.classList.add('colab-df-spinner');\n",
              "      try {\n",
              "        const charts = await google.colab.kernel.invokeFunction(\n",
              "            'suggestCharts', [key], {});\n",
              "      } catch (error) {\n",
              "        console.error('Error during call to suggestCharts:', error);\n",
              "      }\n",
              "      quickchartButtonEl.classList.remove('colab-df-spinner');\n",
              "      quickchartButtonEl.classList.add('colab-df-quickchart-complete');\n",
              "    }\n",
              "    (() => {\n",
              "      let quickchartButtonEl =\n",
              "        document.querySelector('#df-11f7a99b-449d-42f2-ac91-ad81597aa0cf button');\n",
              "      quickchartButtonEl.style.display =\n",
              "        google.colab.kernel.accessAllowed ? 'block' : 'none';\n",
              "    })();\n",
              "  </script>\n",
              "</div>\n",
              "    </div>\n",
              "  </div>\n"
            ]
          },
          "metadata": {},
          "execution_count": 28
        }
      ]
    },
    {
      "cell_type": "code",
      "source": [
        "df.to_csv('jedai.csv')"
      ],
      "metadata": {
        "id": "TygDD_TqaIGm"
      },
      "id": "TygDD_TqaIGm",
      "execution_count": 29,
      "outputs": []
    },
    {
      "cell_type": "code",
      "execution_count": null,
      "id": "eb71b039-9d16-4e13-a484-d9a64e7b96bb",
      "metadata": {
        "id": "eb71b039-9d16-4e13-a484-d9a64e7b96bb"
      },
      "outputs": [],
      "source": []
    }
  ],
  "metadata": {
    "kernelspec": {
      "display_name": "Python 3 (ipykernel)",
      "language": "python",
      "name": "python3"
    },
    "language_info": {
      "codemirror_mode": {
        "name": "ipython",
        "version": 3
      },
      "file_extension": ".py",
      "mimetype": "text/x-python",
      "name": "python",
      "nbconvert_exporter": "python",
      "pygments_lexer": "ipython3",
      "version": "3.10.5"
    },
    "colab": {
      "provenance": []
    },
    "widgets": {
      "application/vnd.jupyter.widget-state+json": {
        "4360b1062dfb4e8b99af306661c1e5ea": {
          "model_module": "@jupyter-widgets/controls",
          "model_name": "HBoxModel",
          "model_module_version": "1.5.0",
          "state": {
            "_dom_classes": [],
            "_model_module": "@jupyter-widgets/controls",
            "_model_module_version": "1.5.0",
            "_model_name": "HBoxModel",
            "_view_count": null,
            "_view_module": "@jupyter-widgets/controls",
            "_view_module_version": "1.5.0",
            "_view_name": "HBoxView",
            "box_style": "",
            "children": [
              "IPY_MODEL_a9cbb3c12d3349659c4c752dca1f63a5",
              "IPY_MODEL_fccebd785e744750a1f933b8119ebb37",
              "IPY_MODEL_73918323025f45d18a3d64edf6260f4b"
            ],
            "layout": "IPY_MODEL_9f97ee77fc88441c8a89ac6a860655e0"
          }
        },
        "a9cbb3c12d3349659c4c752dca1f63a5": {
          "model_module": "@jupyter-widgets/controls",
          "model_name": "HTMLModel",
          "model_module_version": "1.5.0",
          "state": {
            "_dom_classes": [],
            "_model_module": "@jupyter-widgets/controls",
            "_model_module_version": "1.5.0",
            "_model_name": "HTMLModel",
            "_view_count": null,
            "_view_module": "@jupyter-widgets/controls",
            "_view_module_version": "1.5.0",
            "_view_name": "HTMLView",
            "description": "",
            "description_tooltip": null,
            "layout": "IPY_MODEL_2300fc67bd7e41dcb910c8476688709b",
            "placeholder": "​",
            "style": "IPY_MODEL_f0ccd68d70274b2e86c443377dc9db95",
            "value": "Suffix Arrays Blocking: 100%"
          }
        },
        "fccebd785e744750a1f933b8119ebb37": {
          "model_module": "@jupyter-widgets/controls",
          "model_name": "FloatProgressModel",
          "model_module_version": "1.5.0",
          "state": {
            "_dom_classes": [],
            "_model_module": "@jupyter-widgets/controls",
            "_model_module_version": "1.5.0",
            "_model_name": "FloatProgressModel",
            "_view_count": null,
            "_view_module": "@jupyter-widgets/controls",
            "_view_module_version": "1.5.0",
            "_view_name": "ProgressView",
            "bar_style": "success",
            "description": "",
            "description_tooltip": null,
            "layout": "IPY_MODEL_d03d768307d844fbbc64d9c9322179d3",
            "max": 5000,
            "min": 0,
            "orientation": "horizontal",
            "style": "IPY_MODEL_f1459f168bc64479908457ccb95f63b1",
            "value": 5000
          }
        },
        "73918323025f45d18a3d64edf6260f4b": {
          "model_module": "@jupyter-widgets/controls",
          "model_name": "HTMLModel",
          "model_module_version": "1.5.0",
          "state": {
            "_dom_classes": [],
            "_model_module": "@jupyter-widgets/controls",
            "_model_module_version": "1.5.0",
            "_model_name": "HTMLModel",
            "_view_count": null,
            "_view_module": "@jupyter-widgets/controls",
            "_view_module_version": "1.5.0",
            "_view_name": "HTMLView",
            "description": "",
            "description_tooltip": null,
            "layout": "IPY_MODEL_04162553dd9d428287366bace62059cc",
            "placeholder": "​",
            "style": "IPY_MODEL_1c8dc01a7b2e41739db600318f3b4316",
            "value": " 5000/5000 [00:01&lt;00:00, 4942.91it/s]"
          }
        },
        "9f97ee77fc88441c8a89ac6a860655e0": {
          "model_module": "@jupyter-widgets/base",
          "model_name": "LayoutModel",
          "model_module_version": "1.2.0",
          "state": {
            "_model_module": "@jupyter-widgets/base",
            "_model_module_version": "1.2.0",
            "_model_name": "LayoutModel",
            "_view_count": null,
            "_view_module": "@jupyter-widgets/base",
            "_view_module_version": "1.2.0",
            "_view_name": "LayoutView",
            "align_content": null,
            "align_items": null,
            "align_self": null,
            "border": null,
            "bottom": null,
            "display": null,
            "flex": null,
            "flex_flow": null,
            "grid_area": null,
            "grid_auto_columns": null,
            "grid_auto_flow": null,
            "grid_auto_rows": null,
            "grid_column": null,
            "grid_gap": null,
            "grid_row": null,
            "grid_template_areas": null,
            "grid_template_columns": null,
            "grid_template_rows": null,
            "height": null,
            "justify_content": null,
            "justify_items": null,
            "left": null,
            "margin": null,
            "max_height": null,
            "max_width": null,
            "min_height": null,
            "min_width": null,
            "object_fit": null,
            "object_position": null,
            "order": null,
            "overflow": null,
            "overflow_x": null,
            "overflow_y": null,
            "padding": null,
            "right": null,
            "top": null,
            "visibility": null,
            "width": null
          }
        },
        "2300fc67bd7e41dcb910c8476688709b": {
          "model_module": "@jupyter-widgets/base",
          "model_name": "LayoutModel",
          "model_module_version": "1.2.0",
          "state": {
            "_model_module": "@jupyter-widgets/base",
            "_model_module_version": "1.2.0",
            "_model_name": "LayoutModel",
            "_view_count": null,
            "_view_module": "@jupyter-widgets/base",
            "_view_module_version": "1.2.0",
            "_view_name": "LayoutView",
            "align_content": null,
            "align_items": null,
            "align_self": null,
            "border": null,
            "bottom": null,
            "display": null,
            "flex": null,
            "flex_flow": null,
            "grid_area": null,
            "grid_auto_columns": null,
            "grid_auto_flow": null,
            "grid_auto_rows": null,
            "grid_column": null,
            "grid_gap": null,
            "grid_row": null,
            "grid_template_areas": null,
            "grid_template_columns": null,
            "grid_template_rows": null,
            "height": null,
            "justify_content": null,
            "justify_items": null,
            "left": null,
            "margin": null,
            "max_height": null,
            "max_width": null,
            "min_height": null,
            "min_width": null,
            "object_fit": null,
            "object_position": null,
            "order": null,
            "overflow": null,
            "overflow_x": null,
            "overflow_y": null,
            "padding": null,
            "right": null,
            "top": null,
            "visibility": null,
            "width": null
          }
        },
        "f0ccd68d70274b2e86c443377dc9db95": {
          "model_module": "@jupyter-widgets/controls",
          "model_name": "DescriptionStyleModel",
          "model_module_version": "1.5.0",
          "state": {
            "_model_module": "@jupyter-widgets/controls",
            "_model_module_version": "1.5.0",
            "_model_name": "DescriptionStyleModel",
            "_view_count": null,
            "_view_module": "@jupyter-widgets/base",
            "_view_module_version": "1.2.0",
            "_view_name": "StyleView",
            "description_width": ""
          }
        },
        "d03d768307d844fbbc64d9c9322179d3": {
          "model_module": "@jupyter-widgets/base",
          "model_name": "LayoutModel",
          "model_module_version": "1.2.0",
          "state": {
            "_model_module": "@jupyter-widgets/base",
            "_model_module_version": "1.2.0",
            "_model_name": "LayoutModel",
            "_view_count": null,
            "_view_module": "@jupyter-widgets/base",
            "_view_module_version": "1.2.0",
            "_view_name": "LayoutView",
            "align_content": null,
            "align_items": null,
            "align_self": null,
            "border": null,
            "bottom": null,
            "display": null,
            "flex": null,
            "flex_flow": null,
            "grid_area": null,
            "grid_auto_columns": null,
            "grid_auto_flow": null,
            "grid_auto_rows": null,
            "grid_column": null,
            "grid_gap": null,
            "grid_row": null,
            "grid_template_areas": null,
            "grid_template_columns": null,
            "grid_template_rows": null,
            "height": null,
            "justify_content": null,
            "justify_items": null,
            "left": null,
            "margin": null,
            "max_height": null,
            "max_width": null,
            "min_height": null,
            "min_width": null,
            "object_fit": null,
            "object_position": null,
            "order": null,
            "overflow": null,
            "overflow_x": null,
            "overflow_y": null,
            "padding": null,
            "right": null,
            "top": null,
            "visibility": null,
            "width": null
          }
        },
        "f1459f168bc64479908457ccb95f63b1": {
          "model_module": "@jupyter-widgets/controls",
          "model_name": "ProgressStyleModel",
          "model_module_version": "1.5.0",
          "state": {
            "_model_module": "@jupyter-widgets/controls",
            "_model_module_version": "1.5.0",
            "_model_name": "ProgressStyleModel",
            "_view_count": null,
            "_view_module": "@jupyter-widgets/base",
            "_view_module_version": "1.2.0",
            "_view_name": "StyleView",
            "bar_color": null,
            "description_width": ""
          }
        },
        "04162553dd9d428287366bace62059cc": {
          "model_module": "@jupyter-widgets/base",
          "model_name": "LayoutModel",
          "model_module_version": "1.2.0",
          "state": {
            "_model_module": "@jupyter-widgets/base",
            "_model_module_version": "1.2.0",
            "_model_name": "LayoutModel",
            "_view_count": null,
            "_view_module": "@jupyter-widgets/base",
            "_view_module_version": "1.2.0",
            "_view_name": "LayoutView",
            "align_content": null,
            "align_items": null,
            "align_self": null,
            "border": null,
            "bottom": null,
            "display": null,
            "flex": null,
            "flex_flow": null,
            "grid_area": null,
            "grid_auto_columns": null,
            "grid_auto_flow": null,
            "grid_auto_rows": null,
            "grid_column": null,
            "grid_gap": null,
            "grid_row": null,
            "grid_template_areas": null,
            "grid_template_columns": null,
            "grid_template_rows": null,
            "height": null,
            "justify_content": null,
            "justify_items": null,
            "left": null,
            "margin": null,
            "max_height": null,
            "max_width": null,
            "min_height": null,
            "min_width": null,
            "object_fit": null,
            "object_position": null,
            "order": null,
            "overflow": null,
            "overflow_x": null,
            "overflow_y": null,
            "padding": null,
            "right": null,
            "top": null,
            "visibility": null,
            "width": null
          }
        },
        "1c8dc01a7b2e41739db600318f3b4316": {
          "model_module": "@jupyter-widgets/controls",
          "model_name": "DescriptionStyleModel",
          "model_module_version": "1.5.0",
          "state": {
            "_model_module": "@jupyter-widgets/controls",
            "_model_module_version": "1.5.0",
            "_model_name": "DescriptionStyleModel",
            "_view_count": null,
            "_view_module": "@jupyter-widgets/base",
            "_view_module_version": "1.2.0",
            "_view_name": "StyleView",
            "description_width": ""
          }
        },
        "246c6755932f4213bf5ce102df162aec": {
          "model_module": "@jupyter-widgets/controls",
          "model_name": "HBoxModel",
          "model_module_version": "1.5.0",
          "state": {
            "_dom_classes": [],
            "_model_module": "@jupyter-widgets/controls",
            "_model_module_version": "1.5.0",
            "_model_name": "HBoxModel",
            "_view_count": null,
            "_view_module": "@jupyter-widgets/controls",
            "_view_module_version": "1.5.0",
            "_view_name": "HBoxView",
            "box_style": "",
            "children": [
              "IPY_MODEL_0cf4e524c5904d81a3cd28f1af8ba7f7",
              "IPY_MODEL_e5d50ea3ffe544d7a2879768e0c69f83",
              "IPY_MODEL_6cc70597b2f249738a2ad9c44adcdd5a"
            ],
            "layout": "IPY_MODEL_2ee28895cee74cd1a76e54c1e9cf494e"
          }
        },
        "0cf4e524c5904d81a3cd28f1af8ba7f7": {
          "model_module": "@jupyter-widgets/controls",
          "model_name": "HTMLModel",
          "model_module_version": "1.5.0",
          "state": {
            "_dom_classes": [],
            "_model_module": "@jupyter-widgets/controls",
            "_model_module_version": "1.5.0",
            "_model_name": "HTMLModel",
            "_view_count": null,
            "_view_module": "@jupyter-widgets/controls",
            "_view_module_version": "1.5.0",
            "_view_name": "HTMLView",
            "description": "",
            "description_tooltip": null,
            "layout": "IPY_MODEL_c20eab9977524d858d277242387c8a72",
            "placeholder": "​",
            "style": "IPY_MODEL_01c7a53622e24a6c86522fcdde2bd953",
            "value": "Block Purging: 100%"
          }
        },
        "e5d50ea3ffe544d7a2879768e0c69f83": {
          "model_module": "@jupyter-widgets/controls",
          "model_name": "FloatProgressModel",
          "model_module_version": "1.5.0",
          "state": {
            "_dom_classes": [],
            "_model_module": "@jupyter-widgets/controls",
            "_model_module_version": "1.5.0",
            "_model_name": "FloatProgressModel",
            "_view_count": null,
            "_view_module": "@jupyter-widgets/controls",
            "_view_module_version": "1.5.0",
            "_view_name": "ProgressView",
            "bar_style": "success",
            "description": "",
            "description_tooltip": null,
            "layout": "IPY_MODEL_b1d7628628d9441c8459e0f6c6760f66",
            "max": 30772,
            "min": 0,
            "orientation": "horizontal",
            "style": "IPY_MODEL_cbf663492a5047b0b03407a9b8c1fbe6",
            "value": 30772
          }
        },
        "6cc70597b2f249738a2ad9c44adcdd5a": {
          "model_module": "@jupyter-widgets/controls",
          "model_name": "HTMLModel",
          "model_module_version": "1.5.0",
          "state": {
            "_dom_classes": [],
            "_model_module": "@jupyter-widgets/controls",
            "_model_module_version": "1.5.0",
            "_model_name": "HTMLModel",
            "_view_count": null,
            "_view_module": "@jupyter-widgets/controls",
            "_view_module_version": "1.5.0",
            "_view_name": "HTMLView",
            "description": "",
            "description_tooltip": null,
            "layout": "IPY_MODEL_5dc8658cb5294369936e3c4ad41e70cb",
            "placeholder": "​",
            "style": "IPY_MODEL_e7b69afbf38e47c9adad6b63da179f0f",
            "value": " 30772/30772 [00:00&lt;00:00, 165768.44it/s]"
          }
        },
        "2ee28895cee74cd1a76e54c1e9cf494e": {
          "model_module": "@jupyter-widgets/base",
          "model_name": "LayoutModel",
          "model_module_version": "1.2.0",
          "state": {
            "_model_module": "@jupyter-widgets/base",
            "_model_module_version": "1.2.0",
            "_model_name": "LayoutModel",
            "_view_count": null,
            "_view_module": "@jupyter-widgets/base",
            "_view_module_version": "1.2.0",
            "_view_name": "LayoutView",
            "align_content": null,
            "align_items": null,
            "align_self": null,
            "border": null,
            "bottom": null,
            "display": null,
            "flex": null,
            "flex_flow": null,
            "grid_area": null,
            "grid_auto_columns": null,
            "grid_auto_flow": null,
            "grid_auto_rows": null,
            "grid_column": null,
            "grid_gap": null,
            "grid_row": null,
            "grid_template_areas": null,
            "grid_template_columns": null,
            "grid_template_rows": null,
            "height": null,
            "justify_content": null,
            "justify_items": null,
            "left": null,
            "margin": null,
            "max_height": null,
            "max_width": null,
            "min_height": null,
            "min_width": null,
            "object_fit": null,
            "object_position": null,
            "order": null,
            "overflow": null,
            "overflow_x": null,
            "overflow_y": null,
            "padding": null,
            "right": null,
            "top": null,
            "visibility": null,
            "width": null
          }
        },
        "c20eab9977524d858d277242387c8a72": {
          "model_module": "@jupyter-widgets/base",
          "model_name": "LayoutModel",
          "model_module_version": "1.2.0",
          "state": {
            "_model_module": "@jupyter-widgets/base",
            "_model_module_version": "1.2.0",
            "_model_name": "LayoutModel",
            "_view_count": null,
            "_view_module": "@jupyter-widgets/base",
            "_view_module_version": "1.2.0",
            "_view_name": "LayoutView",
            "align_content": null,
            "align_items": null,
            "align_self": null,
            "border": null,
            "bottom": null,
            "display": null,
            "flex": null,
            "flex_flow": null,
            "grid_area": null,
            "grid_auto_columns": null,
            "grid_auto_flow": null,
            "grid_auto_rows": null,
            "grid_column": null,
            "grid_gap": null,
            "grid_row": null,
            "grid_template_areas": null,
            "grid_template_columns": null,
            "grid_template_rows": null,
            "height": null,
            "justify_content": null,
            "justify_items": null,
            "left": null,
            "margin": null,
            "max_height": null,
            "max_width": null,
            "min_height": null,
            "min_width": null,
            "object_fit": null,
            "object_position": null,
            "order": null,
            "overflow": null,
            "overflow_x": null,
            "overflow_y": null,
            "padding": null,
            "right": null,
            "top": null,
            "visibility": null,
            "width": null
          }
        },
        "01c7a53622e24a6c86522fcdde2bd953": {
          "model_module": "@jupyter-widgets/controls",
          "model_name": "DescriptionStyleModel",
          "model_module_version": "1.5.0",
          "state": {
            "_model_module": "@jupyter-widgets/controls",
            "_model_module_version": "1.5.0",
            "_model_name": "DescriptionStyleModel",
            "_view_count": null,
            "_view_module": "@jupyter-widgets/base",
            "_view_module_version": "1.2.0",
            "_view_name": "StyleView",
            "description_width": ""
          }
        },
        "b1d7628628d9441c8459e0f6c6760f66": {
          "model_module": "@jupyter-widgets/base",
          "model_name": "LayoutModel",
          "model_module_version": "1.2.0",
          "state": {
            "_model_module": "@jupyter-widgets/base",
            "_model_module_version": "1.2.0",
            "_model_name": "LayoutModel",
            "_view_count": null,
            "_view_module": "@jupyter-widgets/base",
            "_view_module_version": "1.2.0",
            "_view_name": "LayoutView",
            "align_content": null,
            "align_items": null,
            "align_self": null,
            "border": null,
            "bottom": null,
            "display": null,
            "flex": null,
            "flex_flow": null,
            "grid_area": null,
            "grid_auto_columns": null,
            "grid_auto_flow": null,
            "grid_auto_rows": null,
            "grid_column": null,
            "grid_gap": null,
            "grid_row": null,
            "grid_template_areas": null,
            "grid_template_columns": null,
            "grid_template_rows": null,
            "height": null,
            "justify_content": null,
            "justify_items": null,
            "left": null,
            "margin": null,
            "max_height": null,
            "max_width": null,
            "min_height": null,
            "min_width": null,
            "object_fit": null,
            "object_position": null,
            "order": null,
            "overflow": null,
            "overflow_x": null,
            "overflow_y": null,
            "padding": null,
            "right": null,
            "top": null,
            "visibility": null,
            "width": null
          }
        },
        "cbf663492a5047b0b03407a9b8c1fbe6": {
          "model_module": "@jupyter-widgets/controls",
          "model_name": "ProgressStyleModel",
          "model_module_version": "1.5.0",
          "state": {
            "_model_module": "@jupyter-widgets/controls",
            "_model_module_version": "1.5.0",
            "_model_name": "ProgressStyleModel",
            "_view_count": null,
            "_view_module": "@jupyter-widgets/base",
            "_view_module_version": "1.2.0",
            "_view_name": "StyleView",
            "bar_color": null,
            "description_width": ""
          }
        },
        "5dc8658cb5294369936e3c4ad41e70cb": {
          "model_module": "@jupyter-widgets/base",
          "model_name": "LayoutModel",
          "model_module_version": "1.2.0",
          "state": {
            "_model_module": "@jupyter-widgets/base",
            "_model_module_version": "1.2.0",
            "_model_name": "LayoutModel",
            "_view_count": null,
            "_view_module": "@jupyter-widgets/base",
            "_view_module_version": "1.2.0",
            "_view_name": "LayoutView",
            "align_content": null,
            "align_items": null,
            "align_self": null,
            "border": null,
            "bottom": null,
            "display": null,
            "flex": null,
            "flex_flow": null,
            "grid_area": null,
            "grid_auto_columns": null,
            "grid_auto_flow": null,
            "grid_auto_rows": null,
            "grid_column": null,
            "grid_gap": null,
            "grid_row": null,
            "grid_template_areas": null,
            "grid_template_columns": null,
            "grid_template_rows": null,
            "height": null,
            "justify_content": null,
            "justify_items": null,
            "left": null,
            "margin": null,
            "max_height": null,
            "max_width": null,
            "min_height": null,
            "min_width": null,
            "object_fit": null,
            "object_position": null,
            "order": null,
            "overflow": null,
            "overflow_x": null,
            "overflow_y": null,
            "padding": null,
            "right": null,
            "top": null,
            "visibility": null,
            "width": null
          }
        },
        "e7b69afbf38e47c9adad6b63da179f0f": {
          "model_module": "@jupyter-widgets/controls",
          "model_name": "DescriptionStyleModel",
          "model_module_version": "1.5.0",
          "state": {
            "_model_module": "@jupyter-widgets/controls",
            "_model_module_version": "1.5.0",
            "_model_name": "DescriptionStyleModel",
            "_view_count": null,
            "_view_module": "@jupyter-widgets/base",
            "_view_module_version": "1.2.0",
            "_view_name": "StyleView",
            "description_width": ""
          }
        },
        "d878363fd0f54ba4b73decf2079e5047": {
          "model_module": "@jupyter-widgets/controls",
          "model_name": "HBoxModel",
          "model_module_version": "1.5.0",
          "state": {
            "_dom_classes": [],
            "_model_module": "@jupyter-widgets/controls",
            "_model_module_version": "1.5.0",
            "_model_name": "HBoxModel",
            "_view_count": null,
            "_view_module": "@jupyter-widgets/controls",
            "_view_module_version": "1.5.0",
            "_view_name": "HBoxView",
            "box_style": "",
            "children": [
              "IPY_MODEL_68253a2f1d8048fd9e4cff4a7defe08d",
              "IPY_MODEL_1379195688ea43babc365cbd13e104a5",
              "IPY_MODEL_76fb81606d7a4f0ba1cd8c00f1dd9c07"
            ],
            "layout": "IPY_MODEL_2fa9b36ee88e4e2ab2307156c28e771f"
          }
        },
        "68253a2f1d8048fd9e4cff4a7defe08d": {
          "model_module": "@jupyter-widgets/controls",
          "model_name": "HTMLModel",
          "model_module_version": "1.5.0",
          "state": {
            "_dom_classes": [],
            "_model_module": "@jupyter-widgets/controls",
            "_model_module_version": "1.5.0",
            "_model_name": "HTMLModel",
            "_view_count": null,
            "_view_module": "@jupyter-widgets/controls",
            "_view_module_version": "1.5.0",
            "_view_name": "HTMLView",
            "description": "",
            "description_tooltip": null,
            "layout": "IPY_MODEL_99e7950d2d9046738c3cbfb587c79a71",
            "placeholder": "​",
            "style": "IPY_MODEL_7418fc702bb34eee9ba3ea1af9c27ffe",
            "value": "Block Filtering: 100%"
          }
        },
        "1379195688ea43babc365cbd13e104a5": {
          "model_module": "@jupyter-widgets/controls",
          "model_name": "FloatProgressModel",
          "model_module_version": "1.5.0",
          "state": {
            "_dom_classes": [],
            "_model_module": "@jupyter-widgets/controls",
            "_model_module_version": "1.5.0",
            "_model_name": "FloatProgressModel",
            "_view_count": null,
            "_view_module": "@jupyter-widgets/controls",
            "_view_module_version": "1.5.0",
            "_view_name": "ProgressView",
            "bar_style": "success",
            "description": "",
            "description_tooltip": null,
            "layout": "IPY_MODEL_6a3e54fc9a0d453b8c96b501d3dc0fc9",
            "max": 3,
            "min": 0,
            "orientation": "horizontal",
            "style": "IPY_MODEL_64e7447d9127464f9423540366618125",
            "value": 3
          }
        },
        "76fb81606d7a4f0ba1cd8c00f1dd9c07": {
          "model_module": "@jupyter-widgets/controls",
          "model_name": "HTMLModel",
          "model_module_version": "1.5.0",
          "state": {
            "_dom_classes": [],
            "_model_module": "@jupyter-widgets/controls",
            "_model_module_version": "1.5.0",
            "_model_name": "HTMLModel",
            "_view_count": null,
            "_view_module": "@jupyter-widgets/controls",
            "_view_module_version": "1.5.0",
            "_view_name": "HTMLView",
            "description": "",
            "description_tooltip": null,
            "layout": "IPY_MODEL_f4d4a9d047a9458bb3ae8495d0701021",
            "placeholder": "​",
            "style": "IPY_MODEL_a0d42b64f051436d9268602093890ea7",
            "value": " 3/3 [00:01&lt;00:00,  2.24it/s]"
          }
        },
        "2fa9b36ee88e4e2ab2307156c28e771f": {
          "model_module": "@jupyter-widgets/base",
          "model_name": "LayoutModel",
          "model_module_version": "1.2.0",
          "state": {
            "_model_module": "@jupyter-widgets/base",
            "_model_module_version": "1.2.0",
            "_model_name": "LayoutModel",
            "_view_count": null,
            "_view_module": "@jupyter-widgets/base",
            "_view_module_version": "1.2.0",
            "_view_name": "LayoutView",
            "align_content": null,
            "align_items": null,
            "align_self": null,
            "border": null,
            "bottom": null,
            "display": null,
            "flex": null,
            "flex_flow": null,
            "grid_area": null,
            "grid_auto_columns": null,
            "grid_auto_flow": null,
            "grid_auto_rows": null,
            "grid_column": null,
            "grid_gap": null,
            "grid_row": null,
            "grid_template_areas": null,
            "grid_template_columns": null,
            "grid_template_rows": null,
            "height": null,
            "justify_content": null,
            "justify_items": null,
            "left": null,
            "margin": null,
            "max_height": null,
            "max_width": null,
            "min_height": null,
            "min_width": null,
            "object_fit": null,
            "object_position": null,
            "order": null,
            "overflow": null,
            "overflow_x": null,
            "overflow_y": null,
            "padding": null,
            "right": null,
            "top": null,
            "visibility": null,
            "width": null
          }
        },
        "99e7950d2d9046738c3cbfb587c79a71": {
          "model_module": "@jupyter-widgets/base",
          "model_name": "LayoutModel",
          "model_module_version": "1.2.0",
          "state": {
            "_model_module": "@jupyter-widgets/base",
            "_model_module_version": "1.2.0",
            "_model_name": "LayoutModel",
            "_view_count": null,
            "_view_module": "@jupyter-widgets/base",
            "_view_module_version": "1.2.0",
            "_view_name": "LayoutView",
            "align_content": null,
            "align_items": null,
            "align_self": null,
            "border": null,
            "bottom": null,
            "display": null,
            "flex": null,
            "flex_flow": null,
            "grid_area": null,
            "grid_auto_columns": null,
            "grid_auto_flow": null,
            "grid_auto_rows": null,
            "grid_column": null,
            "grid_gap": null,
            "grid_row": null,
            "grid_template_areas": null,
            "grid_template_columns": null,
            "grid_template_rows": null,
            "height": null,
            "justify_content": null,
            "justify_items": null,
            "left": null,
            "margin": null,
            "max_height": null,
            "max_width": null,
            "min_height": null,
            "min_width": null,
            "object_fit": null,
            "object_position": null,
            "order": null,
            "overflow": null,
            "overflow_x": null,
            "overflow_y": null,
            "padding": null,
            "right": null,
            "top": null,
            "visibility": null,
            "width": null
          }
        },
        "7418fc702bb34eee9ba3ea1af9c27ffe": {
          "model_module": "@jupyter-widgets/controls",
          "model_name": "DescriptionStyleModel",
          "model_module_version": "1.5.0",
          "state": {
            "_model_module": "@jupyter-widgets/controls",
            "_model_module_version": "1.5.0",
            "_model_name": "DescriptionStyleModel",
            "_view_count": null,
            "_view_module": "@jupyter-widgets/base",
            "_view_module_version": "1.2.0",
            "_view_name": "StyleView",
            "description_width": ""
          }
        },
        "6a3e54fc9a0d453b8c96b501d3dc0fc9": {
          "model_module": "@jupyter-widgets/base",
          "model_name": "LayoutModel",
          "model_module_version": "1.2.0",
          "state": {
            "_model_module": "@jupyter-widgets/base",
            "_model_module_version": "1.2.0",
            "_model_name": "LayoutModel",
            "_view_count": null,
            "_view_module": "@jupyter-widgets/base",
            "_view_module_version": "1.2.0",
            "_view_name": "LayoutView",
            "align_content": null,
            "align_items": null,
            "align_self": null,
            "border": null,
            "bottom": null,
            "display": null,
            "flex": null,
            "flex_flow": null,
            "grid_area": null,
            "grid_auto_columns": null,
            "grid_auto_flow": null,
            "grid_auto_rows": null,
            "grid_column": null,
            "grid_gap": null,
            "grid_row": null,
            "grid_template_areas": null,
            "grid_template_columns": null,
            "grid_template_rows": null,
            "height": null,
            "justify_content": null,
            "justify_items": null,
            "left": null,
            "margin": null,
            "max_height": null,
            "max_width": null,
            "min_height": null,
            "min_width": null,
            "object_fit": null,
            "object_position": null,
            "order": null,
            "overflow": null,
            "overflow_x": null,
            "overflow_y": null,
            "padding": null,
            "right": null,
            "top": null,
            "visibility": null,
            "width": null
          }
        },
        "64e7447d9127464f9423540366618125": {
          "model_module": "@jupyter-widgets/controls",
          "model_name": "ProgressStyleModel",
          "model_module_version": "1.5.0",
          "state": {
            "_model_module": "@jupyter-widgets/controls",
            "_model_module_version": "1.5.0",
            "_model_name": "ProgressStyleModel",
            "_view_count": null,
            "_view_module": "@jupyter-widgets/base",
            "_view_module_version": "1.2.0",
            "_view_name": "StyleView",
            "bar_color": null,
            "description_width": ""
          }
        },
        "f4d4a9d047a9458bb3ae8495d0701021": {
          "model_module": "@jupyter-widgets/base",
          "model_name": "LayoutModel",
          "model_module_version": "1.2.0",
          "state": {
            "_model_module": "@jupyter-widgets/base",
            "_model_module_version": "1.2.0",
            "_model_name": "LayoutModel",
            "_view_count": null,
            "_view_module": "@jupyter-widgets/base",
            "_view_module_version": "1.2.0",
            "_view_name": "LayoutView",
            "align_content": null,
            "align_items": null,
            "align_self": null,
            "border": null,
            "bottom": null,
            "display": null,
            "flex": null,
            "flex_flow": null,
            "grid_area": null,
            "grid_auto_columns": null,
            "grid_auto_flow": null,
            "grid_auto_rows": null,
            "grid_column": null,
            "grid_gap": null,
            "grid_row": null,
            "grid_template_areas": null,
            "grid_template_columns": null,
            "grid_template_rows": null,
            "height": null,
            "justify_content": null,
            "justify_items": null,
            "left": null,
            "margin": null,
            "max_height": null,
            "max_width": null,
            "min_height": null,
            "min_width": null,
            "object_fit": null,
            "object_position": null,
            "order": null,
            "overflow": null,
            "overflow_x": null,
            "overflow_y": null,
            "padding": null,
            "right": null,
            "top": null,
            "visibility": null,
            "width": null
          }
        },
        "a0d42b64f051436d9268602093890ea7": {
          "model_module": "@jupyter-widgets/controls",
          "model_name": "DescriptionStyleModel",
          "model_module_version": "1.5.0",
          "state": {
            "_model_module": "@jupyter-widgets/controls",
            "_model_module_version": "1.5.0",
            "_model_name": "DescriptionStyleModel",
            "_view_count": null,
            "_view_module": "@jupyter-widgets/base",
            "_view_module_version": "1.2.0",
            "_view_name": "StyleView",
            "description_width": ""
          }
        },
        "e44fe7f2c26d457e9f3d109527d622e3": {
          "model_module": "@jupyter-widgets/controls",
          "model_name": "HBoxModel",
          "model_module_version": "1.5.0",
          "state": {
            "_dom_classes": [],
            "_model_module": "@jupyter-widgets/controls",
            "_model_module_version": "1.5.0",
            "_model_name": "HBoxModel",
            "_view_count": null,
            "_view_module": "@jupyter-widgets/controls",
            "_view_module_version": "1.5.0",
            "_view_name": "HBoxView",
            "box_style": "",
            "children": [
              "IPY_MODEL_9f79e2ded9b647edabdb5e2df865f792",
              "IPY_MODEL_ea6820317211487e8e46634394d442a5",
              "IPY_MODEL_c9f9f9f99d92430f995305e7ae345933"
            ],
            "layout": "IPY_MODEL_5dca7f2d51c04d8cadff8fd5403eec9e"
          }
        },
        "9f79e2ded9b647edabdb5e2df865f792": {
          "model_module": "@jupyter-widgets/controls",
          "model_name": "HTMLModel",
          "model_module_version": "1.5.0",
          "state": {
            "_dom_classes": [],
            "_model_module": "@jupyter-widgets/controls",
            "_model_module_version": "1.5.0",
            "_model_name": "HTMLModel",
            "_view_count": null,
            "_view_module": "@jupyter-widgets/controls",
            "_view_module_version": "1.5.0",
            "_view_name": "HTMLView",
            "description": "",
            "description_tooltip": null,
            "layout": "IPY_MODEL_a1e4bf1086944bfd8b31bae7a2125388",
            "placeholder": "​",
            "style": "IPY_MODEL_0ec0a08f3c9b4e95aac70dac1a9b5317",
            "value": "Weighted Edge Pruning: 100%"
          }
        },
        "ea6820317211487e8e46634394d442a5": {
          "model_module": "@jupyter-widgets/controls",
          "model_name": "FloatProgressModel",
          "model_module_version": "1.5.0",
          "state": {
            "_dom_classes": [],
            "_model_module": "@jupyter-widgets/controls",
            "_model_module_version": "1.5.0",
            "_model_name": "FloatProgressModel",
            "_view_count": null,
            "_view_module": "@jupyter-widgets/controls",
            "_view_module_version": "1.5.0",
            "_view_name": "ProgressView",
            "bar_style": "success",
            "description": "",
            "description_tooltip": null,
            "layout": "IPY_MODEL_ca692f7baec34f8282bebb095df88825",
            "max": 5000,
            "min": 0,
            "orientation": "horizontal",
            "style": "IPY_MODEL_495d4b09800341bda62aba9ad0ae5c62",
            "value": 5000
          }
        },
        "c9f9f9f99d92430f995305e7ae345933": {
          "model_module": "@jupyter-widgets/controls",
          "model_name": "HTMLModel",
          "model_module_version": "1.5.0",
          "state": {
            "_dom_classes": [],
            "_model_module": "@jupyter-widgets/controls",
            "_model_module_version": "1.5.0",
            "_model_name": "HTMLModel",
            "_view_count": null,
            "_view_module": "@jupyter-widgets/controls",
            "_view_module_version": "1.5.0",
            "_view_name": "HTMLView",
            "description": "",
            "description_tooltip": null,
            "layout": "IPY_MODEL_d24bc72ff6584491ac12ce01603cb73a",
            "placeholder": "​",
            "style": "IPY_MODEL_5025b7931aa446eba30cc7f0da17ac52",
            "value": " 5000/5000 [00:03&lt;00:00, 1618.02it/s]"
          }
        },
        "5dca7f2d51c04d8cadff8fd5403eec9e": {
          "model_module": "@jupyter-widgets/base",
          "model_name": "LayoutModel",
          "model_module_version": "1.2.0",
          "state": {
            "_model_module": "@jupyter-widgets/base",
            "_model_module_version": "1.2.0",
            "_model_name": "LayoutModel",
            "_view_count": null,
            "_view_module": "@jupyter-widgets/base",
            "_view_module_version": "1.2.0",
            "_view_name": "LayoutView",
            "align_content": null,
            "align_items": null,
            "align_self": null,
            "border": null,
            "bottom": null,
            "display": null,
            "flex": null,
            "flex_flow": null,
            "grid_area": null,
            "grid_auto_columns": null,
            "grid_auto_flow": null,
            "grid_auto_rows": null,
            "grid_column": null,
            "grid_gap": null,
            "grid_row": null,
            "grid_template_areas": null,
            "grid_template_columns": null,
            "grid_template_rows": null,
            "height": null,
            "justify_content": null,
            "justify_items": null,
            "left": null,
            "margin": null,
            "max_height": null,
            "max_width": null,
            "min_height": null,
            "min_width": null,
            "object_fit": null,
            "object_position": null,
            "order": null,
            "overflow": null,
            "overflow_x": null,
            "overflow_y": null,
            "padding": null,
            "right": null,
            "top": null,
            "visibility": null,
            "width": null
          }
        },
        "a1e4bf1086944bfd8b31bae7a2125388": {
          "model_module": "@jupyter-widgets/base",
          "model_name": "LayoutModel",
          "model_module_version": "1.2.0",
          "state": {
            "_model_module": "@jupyter-widgets/base",
            "_model_module_version": "1.2.0",
            "_model_name": "LayoutModel",
            "_view_count": null,
            "_view_module": "@jupyter-widgets/base",
            "_view_module_version": "1.2.0",
            "_view_name": "LayoutView",
            "align_content": null,
            "align_items": null,
            "align_self": null,
            "border": null,
            "bottom": null,
            "display": null,
            "flex": null,
            "flex_flow": null,
            "grid_area": null,
            "grid_auto_columns": null,
            "grid_auto_flow": null,
            "grid_auto_rows": null,
            "grid_column": null,
            "grid_gap": null,
            "grid_row": null,
            "grid_template_areas": null,
            "grid_template_columns": null,
            "grid_template_rows": null,
            "height": null,
            "justify_content": null,
            "justify_items": null,
            "left": null,
            "margin": null,
            "max_height": null,
            "max_width": null,
            "min_height": null,
            "min_width": null,
            "object_fit": null,
            "object_position": null,
            "order": null,
            "overflow": null,
            "overflow_x": null,
            "overflow_y": null,
            "padding": null,
            "right": null,
            "top": null,
            "visibility": null,
            "width": null
          }
        },
        "0ec0a08f3c9b4e95aac70dac1a9b5317": {
          "model_module": "@jupyter-widgets/controls",
          "model_name": "DescriptionStyleModel",
          "model_module_version": "1.5.0",
          "state": {
            "_model_module": "@jupyter-widgets/controls",
            "_model_module_version": "1.5.0",
            "_model_name": "DescriptionStyleModel",
            "_view_count": null,
            "_view_module": "@jupyter-widgets/base",
            "_view_module_version": "1.2.0",
            "_view_name": "StyleView",
            "description_width": ""
          }
        },
        "ca692f7baec34f8282bebb095df88825": {
          "model_module": "@jupyter-widgets/base",
          "model_name": "LayoutModel",
          "model_module_version": "1.2.0",
          "state": {
            "_model_module": "@jupyter-widgets/base",
            "_model_module_version": "1.2.0",
            "_model_name": "LayoutModel",
            "_view_count": null,
            "_view_module": "@jupyter-widgets/base",
            "_view_module_version": "1.2.0",
            "_view_name": "LayoutView",
            "align_content": null,
            "align_items": null,
            "align_self": null,
            "border": null,
            "bottom": null,
            "display": null,
            "flex": null,
            "flex_flow": null,
            "grid_area": null,
            "grid_auto_columns": null,
            "grid_auto_flow": null,
            "grid_auto_rows": null,
            "grid_column": null,
            "grid_gap": null,
            "grid_row": null,
            "grid_template_areas": null,
            "grid_template_columns": null,
            "grid_template_rows": null,
            "height": null,
            "justify_content": null,
            "justify_items": null,
            "left": null,
            "margin": null,
            "max_height": null,
            "max_width": null,
            "min_height": null,
            "min_width": null,
            "object_fit": null,
            "object_position": null,
            "order": null,
            "overflow": null,
            "overflow_x": null,
            "overflow_y": null,
            "padding": null,
            "right": null,
            "top": null,
            "visibility": null,
            "width": null
          }
        },
        "495d4b09800341bda62aba9ad0ae5c62": {
          "model_module": "@jupyter-widgets/controls",
          "model_name": "ProgressStyleModel",
          "model_module_version": "1.5.0",
          "state": {
            "_model_module": "@jupyter-widgets/controls",
            "_model_module_version": "1.5.0",
            "_model_name": "ProgressStyleModel",
            "_view_count": null,
            "_view_module": "@jupyter-widgets/base",
            "_view_module_version": "1.2.0",
            "_view_name": "StyleView",
            "bar_color": null,
            "description_width": ""
          }
        },
        "d24bc72ff6584491ac12ce01603cb73a": {
          "model_module": "@jupyter-widgets/base",
          "model_name": "LayoutModel",
          "model_module_version": "1.2.0",
          "state": {
            "_model_module": "@jupyter-widgets/base",
            "_model_module_version": "1.2.0",
            "_model_name": "LayoutModel",
            "_view_count": null,
            "_view_module": "@jupyter-widgets/base",
            "_view_module_version": "1.2.0",
            "_view_name": "LayoutView",
            "align_content": null,
            "align_items": null,
            "align_self": null,
            "border": null,
            "bottom": null,
            "display": null,
            "flex": null,
            "flex_flow": null,
            "grid_area": null,
            "grid_auto_columns": null,
            "grid_auto_flow": null,
            "grid_auto_rows": null,
            "grid_column": null,
            "grid_gap": null,
            "grid_row": null,
            "grid_template_areas": null,
            "grid_template_columns": null,
            "grid_template_rows": null,
            "height": null,
            "justify_content": null,
            "justify_items": null,
            "left": null,
            "margin": null,
            "max_height": null,
            "max_width": null,
            "min_height": null,
            "min_width": null,
            "object_fit": null,
            "object_position": null,
            "order": null,
            "overflow": null,
            "overflow_x": null,
            "overflow_y": null,
            "padding": null,
            "right": null,
            "top": null,
            "visibility": null,
            "width": null
          }
        },
        "5025b7931aa446eba30cc7f0da17ac52": {
          "model_module": "@jupyter-widgets/controls",
          "model_name": "DescriptionStyleModel",
          "model_module_version": "1.5.0",
          "state": {
            "_model_module": "@jupyter-widgets/controls",
            "_model_module_version": "1.5.0",
            "_model_name": "DescriptionStyleModel",
            "_view_count": null,
            "_view_module": "@jupyter-widgets/base",
            "_view_module_version": "1.2.0",
            "_view_name": "StyleView",
            "description_width": ""
          }
        },
        "7e93ba37a343455aa0b76eee59278b9f": {
          "model_module": "@jupyter-widgets/controls",
          "model_name": "HBoxModel",
          "model_module_version": "1.5.0",
          "state": {
            "_dom_classes": [],
            "_model_module": "@jupyter-widgets/controls",
            "_model_module_version": "1.5.0",
            "_model_name": "HBoxModel",
            "_view_count": null,
            "_view_module": "@jupyter-widgets/controls",
            "_view_module_version": "1.5.0",
            "_view_name": "HBoxView",
            "box_style": "",
            "children": [
              "IPY_MODEL_8cb40af0c6d14e0fa41dc79afc4face4",
              "IPY_MODEL_d597ac7cb595411ea9b0e1cd84e5a214",
              "IPY_MODEL_a6ac6fd250f74c029326a04fc094cb2d"
            ],
            "layout": "IPY_MODEL_891a1983bbe348af9b265504b43f0e51"
          }
        },
        "8cb40af0c6d14e0fa41dc79afc4face4": {
          "model_module": "@jupyter-widgets/controls",
          "model_name": "HTMLModel",
          "model_module_version": "1.5.0",
          "state": {
            "_dom_classes": [],
            "_model_module": "@jupyter-widgets/controls",
            "_model_module_version": "1.5.0",
            "_model_name": "HTMLModel",
            "_view_count": null,
            "_view_module": "@jupyter-widgets/controls",
            "_view_module_version": "1.5.0",
            "_view_name": "HTMLView",
            "description": "",
            "description_tooltip": null,
            "layout": "IPY_MODEL_f438649d83af48a9b86914caadfc20bc",
            "placeholder": "​",
            "style": "IPY_MODEL_e5b2abeb2be14cdb92b1e6bb9550ec6a",
            "value": "Entity Matching (jaccard, white_space_tokenizer): 100%"
          }
        },
        "d597ac7cb595411ea9b0e1cd84e5a214": {
          "model_module": "@jupyter-widgets/controls",
          "model_name": "FloatProgressModel",
          "model_module_version": "1.5.0",
          "state": {
            "_dom_classes": [],
            "_model_module": "@jupyter-widgets/controls",
            "_model_module_version": "1.5.0",
            "_model_name": "FloatProgressModel",
            "_view_count": null,
            "_view_module": "@jupyter-widgets/controls",
            "_view_module_version": "1.5.0",
            "_view_name": "ProgressView",
            "bar_style": "success",
            "description": "",
            "description_tooltip": null,
            "layout": "IPY_MODEL_ce018d84fc9247a2bde0faef04bdaffb",
            "max": 4600,
            "min": 0,
            "orientation": "horizontal",
            "style": "IPY_MODEL_26c4a99a99cd4f4ea962bae608056d7a",
            "value": 4600
          }
        },
        "a6ac6fd250f74c029326a04fc094cb2d": {
          "model_module": "@jupyter-widgets/controls",
          "model_name": "HTMLModel",
          "model_module_version": "1.5.0",
          "state": {
            "_dom_classes": [],
            "_model_module": "@jupyter-widgets/controls",
            "_model_module_version": "1.5.0",
            "_model_name": "HTMLModel",
            "_view_count": null,
            "_view_module": "@jupyter-widgets/controls",
            "_view_module_version": "1.5.0",
            "_view_name": "HTMLView",
            "description": "",
            "description_tooltip": null,
            "layout": "IPY_MODEL_ef11915906bb40e8981cec87f551cccf",
            "placeholder": "​",
            "style": "IPY_MODEL_2a755619e5324d928084e15236ab7683",
            "value": " 4600/4600 [00:22&lt;00:00, 123.93it/s]"
          }
        },
        "891a1983bbe348af9b265504b43f0e51": {
          "model_module": "@jupyter-widgets/base",
          "model_name": "LayoutModel",
          "model_module_version": "1.2.0",
          "state": {
            "_model_module": "@jupyter-widgets/base",
            "_model_module_version": "1.2.0",
            "_model_name": "LayoutModel",
            "_view_count": null,
            "_view_module": "@jupyter-widgets/base",
            "_view_module_version": "1.2.0",
            "_view_name": "LayoutView",
            "align_content": null,
            "align_items": null,
            "align_self": null,
            "border": null,
            "bottom": null,
            "display": null,
            "flex": null,
            "flex_flow": null,
            "grid_area": null,
            "grid_auto_columns": null,
            "grid_auto_flow": null,
            "grid_auto_rows": null,
            "grid_column": null,
            "grid_gap": null,
            "grid_row": null,
            "grid_template_areas": null,
            "grid_template_columns": null,
            "grid_template_rows": null,
            "height": null,
            "justify_content": null,
            "justify_items": null,
            "left": null,
            "margin": null,
            "max_height": null,
            "max_width": null,
            "min_height": null,
            "min_width": null,
            "object_fit": null,
            "object_position": null,
            "order": null,
            "overflow": null,
            "overflow_x": null,
            "overflow_y": null,
            "padding": null,
            "right": null,
            "top": null,
            "visibility": null,
            "width": null
          }
        },
        "f438649d83af48a9b86914caadfc20bc": {
          "model_module": "@jupyter-widgets/base",
          "model_name": "LayoutModel",
          "model_module_version": "1.2.0",
          "state": {
            "_model_module": "@jupyter-widgets/base",
            "_model_module_version": "1.2.0",
            "_model_name": "LayoutModel",
            "_view_count": null,
            "_view_module": "@jupyter-widgets/base",
            "_view_module_version": "1.2.0",
            "_view_name": "LayoutView",
            "align_content": null,
            "align_items": null,
            "align_self": null,
            "border": null,
            "bottom": null,
            "display": null,
            "flex": null,
            "flex_flow": null,
            "grid_area": null,
            "grid_auto_columns": null,
            "grid_auto_flow": null,
            "grid_auto_rows": null,
            "grid_column": null,
            "grid_gap": null,
            "grid_row": null,
            "grid_template_areas": null,
            "grid_template_columns": null,
            "grid_template_rows": null,
            "height": null,
            "justify_content": null,
            "justify_items": null,
            "left": null,
            "margin": null,
            "max_height": null,
            "max_width": null,
            "min_height": null,
            "min_width": null,
            "object_fit": null,
            "object_position": null,
            "order": null,
            "overflow": null,
            "overflow_x": null,
            "overflow_y": null,
            "padding": null,
            "right": null,
            "top": null,
            "visibility": null,
            "width": null
          }
        },
        "e5b2abeb2be14cdb92b1e6bb9550ec6a": {
          "model_module": "@jupyter-widgets/controls",
          "model_name": "DescriptionStyleModel",
          "model_module_version": "1.5.0",
          "state": {
            "_model_module": "@jupyter-widgets/controls",
            "_model_module_version": "1.5.0",
            "_model_name": "DescriptionStyleModel",
            "_view_count": null,
            "_view_module": "@jupyter-widgets/base",
            "_view_module_version": "1.2.0",
            "_view_name": "StyleView",
            "description_width": ""
          }
        },
        "ce018d84fc9247a2bde0faef04bdaffb": {
          "model_module": "@jupyter-widgets/base",
          "model_name": "LayoutModel",
          "model_module_version": "1.2.0",
          "state": {
            "_model_module": "@jupyter-widgets/base",
            "_model_module_version": "1.2.0",
            "_model_name": "LayoutModel",
            "_view_count": null,
            "_view_module": "@jupyter-widgets/base",
            "_view_module_version": "1.2.0",
            "_view_name": "LayoutView",
            "align_content": null,
            "align_items": null,
            "align_self": null,
            "border": null,
            "bottom": null,
            "display": null,
            "flex": null,
            "flex_flow": null,
            "grid_area": null,
            "grid_auto_columns": null,
            "grid_auto_flow": null,
            "grid_auto_rows": null,
            "grid_column": null,
            "grid_gap": null,
            "grid_row": null,
            "grid_template_areas": null,
            "grid_template_columns": null,
            "grid_template_rows": null,
            "height": null,
            "justify_content": null,
            "justify_items": null,
            "left": null,
            "margin": null,
            "max_height": null,
            "max_width": null,
            "min_height": null,
            "min_width": null,
            "object_fit": null,
            "object_position": null,
            "order": null,
            "overflow": null,
            "overflow_x": null,
            "overflow_y": null,
            "padding": null,
            "right": null,
            "top": null,
            "visibility": null,
            "width": null
          }
        },
        "26c4a99a99cd4f4ea962bae608056d7a": {
          "model_module": "@jupyter-widgets/controls",
          "model_name": "ProgressStyleModel",
          "model_module_version": "1.5.0",
          "state": {
            "_model_module": "@jupyter-widgets/controls",
            "_model_module_version": "1.5.0",
            "_model_name": "ProgressStyleModel",
            "_view_count": null,
            "_view_module": "@jupyter-widgets/base",
            "_view_module_version": "1.2.0",
            "_view_name": "StyleView",
            "bar_color": null,
            "description_width": ""
          }
        },
        "ef11915906bb40e8981cec87f551cccf": {
          "model_module": "@jupyter-widgets/base",
          "model_name": "LayoutModel",
          "model_module_version": "1.2.0",
          "state": {
            "_model_module": "@jupyter-widgets/base",
            "_model_module_version": "1.2.0",
            "_model_name": "LayoutModel",
            "_view_count": null,
            "_view_module": "@jupyter-widgets/base",
            "_view_module_version": "1.2.0",
            "_view_name": "LayoutView",
            "align_content": null,
            "align_items": null,
            "align_self": null,
            "border": null,
            "bottom": null,
            "display": null,
            "flex": null,
            "flex_flow": null,
            "grid_area": null,
            "grid_auto_columns": null,
            "grid_auto_flow": null,
            "grid_auto_rows": null,
            "grid_column": null,
            "grid_gap": null,
            "grid_row": null,
            "grid_template_areas": null,
            "grid_template_columns": null,
            "grid_template_rows": null,
            "height": null,
            "justify_content": null,
            "justify_items": null,
            "left": null,
            "margin": null,
            "max_height": null,
            "max_width": null,
            "min_height": null,
            "min_width": null,
            "object_fit": null,
            "object_position": null,
            "order": null,
            "overflow": null,
            "overflow_x": null,
            "overflow_y": null,
            "padding": null,
            "right": null,
            "top": null,
            "visibility": null,
            "width": null
          }
        },
        "2a755619e5324d928084e15236ab7683": {
          "model_module": "@jupyter-widgets/controls",
          "model_name": "DescriptionStyleModel",
          "model_module_version": "1.5.0",
          "state": {
            "_model_module": "@jupyter-widgets/controls",
            "_model_module_version": "1.5.0",
            "_model_name": "DescriptionStyleModel",
            "_view_count": null,
            "_view_module": "@jupyter-widgets/base",
            "_view_module_version": "1.2.0",
            "_view_name": "StyleView",
            "description_width": ""
          }
        }
      }
    }
  },
  "nbformat": 4,
  "nbformat_minor": 5
}