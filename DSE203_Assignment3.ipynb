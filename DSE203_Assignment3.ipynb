{
 "cells": [
  {
   "cell_type": "markdown",
   "id": "63842ee2-b489-42ac-80e8-855a0b79f994",
   "metadata": {},
   "source": [
    "# DSE 203 - Assignment 3\n",
    "## Group 5 - Christopher Vanhook, Vaaruni Desai, Zufeshan Imran\n",
    "### <font color='red'>Query - List all the unincorporated places where there is a cafe</font>"
   ]
  },
  {
   "cell_type": "markdown",
   "id": "0d0e77d2-41e6-4dcc-95b5-07d23c8d2e5d",
   "metadata": {},
   "source": [
    "#### Import the required libraries"
   ]
  },
  {
   "cell_type": "code",
   "execution_count": 49,
   "id": "db99bed9-e673-4686-bc1a-a0638c73935b",
   "metadata": {},
   "outputs": [],
   "source": [
    "import psycopg2\n",
    "import pandas as pd\n",
    "import json\n",
    "from jsonpath_ng.ext import parse\n",
    "import time\n",
    "from fuzzywuzzy import fuzz\n",
    "from fuzzywuzzy import process"
   ]
  },
  {
   "cell_type": "markdown",
   "id": "3c66d272-0b34-4e42-bf1a-9a32c2177574",
   "metadata": {},
   "source": [
    "#### We're looking at two files. A JSON file containing information about places in San Diego and a CSV file containing information about businesses in and around San Diego"
   ]
  },
  {
   "cell_type": "code",
   "execution_count": 2,
   "id": "5f7689be-a1ca-462a-a3ff-a230bc425211",
   "metadata": {},
   "outputs": [],
   "source": [
    "json_file = 'statisticalAtlas.json'\n",
    "csv_file = 'nourish_public_ca_business.csv'"
   ]
  },
  {
   "cell_type": "markdown",
   "id": "ca7a7167-5878-4bc1-8857-3978f417b33a",
   "metadata": {},
   "source": [
    "#### Load in JSON file using json library"
   ]
  },
  {
   "cell_type": "code",
   "execution_count": 3,
   "id": "b9503546-9f03-412e-934e-01a6a116ab2e",
   "metadata": {},
   "outputs": [],
   "source": [
    "with open(json_file, \"r\") as f:\n",
    "    json_data = json.load(f)"
   ]
  },
  {
   "cell_type": "markdown",
   "id": "7d0895b9-384c-48d1-a6db-eaeb33bebe57",
   "metadata": {},
   "source": [
    "#### Connect to pgadmin host - The cell takes user input"
   ]
  },
  {
   "cell_type": "code",
   "execution_count": 4,
   "id": "9cbca3fb-e799-4530-ad23-bc36009c5ecd",
   "metadata": {},
   "outputs": [
    {
     "name": "stdin",
     "output_type": "stream",
     "text": [
      "Enter database name: postgres\n",
      "Enter host name: localhost\n",
      "Enter user name: postgres\n",
      "Enter password: password\n",
      "Enter port number: 5432\n"
     ]
    }
   ],
   "source": [
    "database = input(\"Enter database name:\")\n",
    "host = input(\"Enter host name:\")\n",
    "user = input(\"Enter user name:\")\n",
    "password = input(\"Enter password:\")\n",
    "port = input(\"Enter port number:\")\n",
    "\n",
    "conn = psycopg2.connect(database=database,\n",
    "                        host=host,\n",
    "                        user=user,\n",
    "                        password=password,\n",
    "                        port=port)\n",
    "\n",
    "cur = conn.cursor()"
   ]
  },
  {
   "cell_type": "markdown",
   "id": "8b5a8ebc-b321-473e-8b44-ed6aec026d57",
   "metadata": {},
   "source": [
    "#### Import csv data into pgadmin. \n",
    "1. Create a table \n",
    "2. Copy/import csv data into respective columns in the created table "
   ]
  },
  {
   "cell_type": "code",
   "execution_count": 5,
   "id": "4642ca90-79c2-4f3f-b250-723ce94765b2",
   "metadata": {},
   "outputs": [],
   "source": [
    "CREATE_DB = \"\"\"CREATE table IF NOT EXISTS nourish_public\n",
    "(id bigserial primary key,\n",
    " name varchar,\n",
    " address varchar,\n",
    " avg_rating varchar,\n",
    " zip varchar(5),\n",
    " categories varchar,\n",
    " city varchar\n",
    ");\"\"\"\n",
    "cur.execute(CREATE_DB)\n",
    "conn.commit()"
   ]
  },
  {
   "cell_type": "code",
   "execution_count": 6,
   "id": "c23d033a-6811-4f4b-970e-58ec322823f5",
   "metadata": {},
   "outputs": [],
   "source": [
    "IMPORT_CSV = \"\"\"COPY nourish_public(name,address,avg_rating,zip,categories,city) FROM '/tmp/nourish_public_ca_business.csv' DELIMITER ',' CSV HEADER;\"\"\"\n",
    "cur.execute(IMPORT_CSV)\n",
    "conn.commit()"
   ]
  },
  {
   "cell_type": "markdown",
   "id": "07082cba-dccd-4c92-a09a-d6d321696b1a",
   "metadata": {},
   "source": [
    "#### SQL Query to extract places where there is a cafe"
   ]
  },
  {
   "cell_type": "code",
   "execution_count": 7,
   "id": "8b886fa9-4c2e-46af-b8f8-0be36be987f1",
   "metadata": {},
   "outputs": [],
   "source": [
    "cur.execute(\"SELECT * FROM nourish_public WHERE categories LIKE '%Cafe%';\")\n",
    "records = cur.fetchall()\n",
    "col_names = [desc[0] for desc in cur.description]\n",
    "cur.close()"
   ]
  },
  {
   "cell_type": "markdown",
   "id": "b7ab0d56-26be-4ecd-9f23-bc71151db503",
   "metadata": {},
   "source": [
    "#### JSON Query to extract Unincorporated Places"
   ]
  },
  {
   "cell_type": "code",
   "execution_count": 8,
   "id": "deb73b58-8dbf-4be0-83f5-2674aaa31685",
   "metadata": {},
   "outputs": [],
   "source": [
    "jsonpath_expr = parse(\"$.['Unincorporated Places']\")\n",
    "matches = [match.value for match in jsonpath_expr.find(json_data)]"
   ]
  },
  {
   "cell_type": "markdown",
   "id": "e67ad620-e0cb-4f0c-bc50-9823de5185bd",
   "metadata": {},
   "source": [
    "#### Creating a Hash Table for JSON data - key being the city name"
   ]
  },
  {
   "cell_type": "code",
   "execution_count": 9,
   "id": "45254ad2-836f-46bf-a17e-92d5a1eb9200",
   "metadata": {},
   "outputs": [
    {
     "name": "stdout",
     "output_type": "stream",
     "text": [
      "--- 0.0001533031463623047 seconds ---\n"
     ]
    }
   ],
   "source": [
    "start_time = time.time()\n",
    "json_hash = {}\n",
    "for entry in matches[0]:\n",
    "    city_name = entry.get('City Name') \n",
    "    if city_name is not None:\n",
    "        if city_name not in json_hash:\n",
    "            json_hash[city_name] = []\n",
    "        json_hash[city_name].append(entry)\n",
    "print(\"--- %s seconds ---\" % (time.time() - start_time))"
   ]
  },
  {
   "cell_type": "markdown",
   "id": "8b5c2983-7fdd-4b03-9916-40e1c318a970",
   "metadata": {},
   "source": [
    "#### Creating a Hash Table for SQL data - key being the city"
   ]
  },
  {
   "cell_type": "code",
   "execution_count": 10,
   "id": "b45a8991-58bb-4613-b3a4-8a5b6ff95c2d",
   "metadata": {},
   "outputs": [
    {
     "name": "stdout",
     "output_type": "stream",
     "text": [
      "--- 0.00011491775512695312 seconds ---\n"
     ]
    }
   ],
   "source": [
    "start_time = time.time()\n",
    "sql_hash = {}\n",
    "for entry in records:\n",
    "    city_name = entry[6] \n",
    "    if city_name is not None:\n",
    "        if city_name not in sql_hash:\n",
    "            sql_hash[city_name] = []\n",
    "        sql_hash[city_name].append(entry)\n",
    "print(\"--- %s seconds ---\" % (time.time() - start_time))"
   ]
  },
  {
   "cell_type": "markdown",
   "id": "c3fe5f4e-bc21-419a-aec8-3da1c7f44cad",
   "metadata": {},
   "source": [
    "#### Joining both data based on hash table keys"
   ]
  },
  {
   "cell_type": "code",
   "execution_count": 56,
   "id": "7f09ed1c-8b8f-4161-8ca1-b66018a33ada",
   "metadata": {},
   "outputs": [
    {
     "name": "stdout",
     "output_type": "stream",
     "text": [
      "[{'State': 'California', 'County': 'San Diego', 'ZIP Code': '92067', 'City Name': 'Rancho Santa Fe', 'Metro Area': 'San Diego Area', 'Nearby Cities': 'Carlsbad, Del Mar, Encinitas, Escondido, Poway, San Marcos, Solana Beach, Vista', 'Assembly District': 'CA-77', 'State Senate District': 'CA-38', 'Congressional District': 'CA-49', 'Secondary School District': 'San Dieguito', 'Elementary School Districts': 'Rancho Santa Fe, Solana Beach', 'Nearby Unincorporated Places': 'Hidden Meadows, Lake San Marcos', 'Neighboring Unincorporated Places': 'Fairbanks Ranch'}]\n",
      "[{'State': 'California', 'County': 'San Diego', 'City Name': 'Pala', 'ZIP Codes': '92059, 92082', 'Metro Area': 'San Diego Area', 'Nearby Cities': 'Escondido, Temecula, Vista', 'Assembly District': 'CA-75', 'State Senate District': 'CA-38', 'Congressional District': 'CA-50', 'Unified School District': 'Bonsall', 'Nearby Unincorporated Places': 'Aguanga, Bonsall, Camp Pendleton North, Fallbrook, Hidden Meadows, Rainbow, Valley Center'}]\n",
      "[{'State': 'California', 'County': 'San Diego', 'ZIP Code': '91948', 'City Name': 'Mount Laguna', 'Metro Area': 'San Diego Area', 'Assembly District': 'CA-71', 'State Senate District': 'CA-38', 'Congressional District': 'CA-50', 'Unified School District': 'Mountain Empire', 'Nearby Unincorporated Places': 'Alpine, Boulevard, Campo, Descanso, Harbison Canyon, Jacumba, Julian, Pine Valley, Potrero, San Diego Country Estates'}]\n",
      "863.7428283691406 microseconds\n"
     ]
    }
   ],
   "source": [
    "start_time = time.time()\n",
    "threshold = 85\n",
    "matching_keys = []\n",
    "\n",
    "for sql_key in sql_hash:\n",
    "    matches = process.extract(sql_key, json_hash.keys(), scorer=fuzz.token_sort_ratio)\n",
    "    best_match = max(matches, key=lambda x: x[1])\n",
    "    if best_match[1] >= threshold:\n",
    "        print(json_hash[best_match[0]])\n",
    "time_taken = (time.time() - start_time)\n",
    "print(f\"{time_taken * 100000} microseconds\")"
   ]
  }
 ],
 "metadata": {
  "kernelspec": {
   "display_name": "Python 3 (ipykernel)",
   "language": "python",
   "name": "python3"
  },
  "language_info": {
   "codemirror_mode": {
    "name": "ipython",
    "version": 3
   },
   "file_extension": ".py",
   "mimetype": "text/x-python",
   "name": "python",
   "nbconvert_exporter": "python",
   "pygments_lexer": "ipython3",
   "version": "3.9.13"
  }
 },
 "nbformat": 4,
 "nbformat_minor": 5
}
