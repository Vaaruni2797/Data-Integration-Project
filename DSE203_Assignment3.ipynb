{
 "cells": [
  {
   "cell_type": "code",
   "execution_count": 1,
   "id": "db99bed9-e673-4686-bc1a-a0638c73935b",
   "metadata": {},
   "outputs": [],
   "source": [
    "import psycopg2\n",
    "import pandas as pd\n",
    "import json\n",
    "from jsonpath_ng.ext import parse"
   ]
  },
  {
   "cell_type": "code",
   "execution_count": 2,
   "id": "5f7689be-a1ca-462a-a3ff-a230bc425211",
   "metadata": {},
   "outputs": [],
   "source": [
    "json_file = 'statisticalAtlas.json'\n",
    "csv_file = 'nourish_public_ca_business.csv'"
   ]
  },
  {
   "cell_type": "code",
   "execution_count": 3,
   "id": "b9503546-9f03-412e-934e-01a6a116ab2e",
   "metadata": {},
   "outputs": [],
   "source": [
    "with open(json_file, \"r\") as f:\n",
    "    json_data = json.load(f)"
   ]
  },
  {
   "cell_type": "code",
   "execution_count": 4,
   "id": "9cbca3fb-e799-4530-ad23-bc36009c5ecd",
   "metadata": {},
   "outputs": [
    {
     "name": "stdin",
     "output_type": "stream",
     "text": [
      "Enter database name: postgres\n",
      "Enter host name: localhost\n",
      "Enter user name: postgres\n",
      "Enter password: password\n",
      "Enter port number: 5432\n"
     ]
    }
   ],
   "source": [
    "database = input(\"Enter database name:\")\n",
    "host = input(\"Enter host name:\")\n",
    "user = input(\"Enter user name:\")\n",
    "password = input(\"Enter password:\")\n",
    "port = input(\"Enter port number:\")\n",
    "\n",
    "conn = psycopg2.connect(database=database,\n",
    "                        host=host,\n",
    "                        user=user,\n",
    "                        password=password,\n",
    "                        port=port)\n",
    "\n",
    "cur = conn.cursor()"
   ]
  },
  {
   "cell_type": "code",
   "execution_count": 5,
   "id": "4642ca90-79c2-4f3f-b250-723ce94765b2",
   "metadata": {},
   "outputs": [],
   "source": [
    "CREATE_DB = \"\"\"CREATE table IF NOT EXISTS nourish_public\n",
    "(id bigserial primary key,\n",
    " name varchar,\n",
    " address varchar,\n",
    " avg_rating varchar,\n",
    " zip varchar(5),\n",
    " categories varchar,\n",
    " city varchar\n",
    ");\"\"\"\n",
    "cur.execute(CREATE_DB)\n",
    "conn.commit()"
   ]
  },
  {
   "cell_type": "code",
   "execution_count": 6,
   "id": "c23d033a-6811-4f4b-970e-58ec322823f5",
   "metadata": {},
   "outputs": [],
   "source": [
    "IMPORT_CSV = \"\"\"COPY nourish_public(name,address,avg_rating,zip,categories,city) FROM '/tmp/nourish_public_ca_business.csv' DELIMITER ',' CSV HEADER;\"\"\"\n",
    "cur.execute(IMPORT_CSV)\n",
    "conn.commit()"
   ]
  },
  {
   "cell_type": "code",
   "execution_count": 7,
   "id": "8b886fa9-4c2e-46af-b8f8-0be36be987f1",
   "metadata": {},
   "outputs": [],
   "source": [
    "cur.execute(\"SELECT * FROM nourish_public WHERE categories LIKE '%Cafe%';\")\n",
    "records = cur.fetchall()\n",
    "col_names = [desc[0] for desc in cur.description]\n",
    "cur.close()"
   ]
  },
  {
   "cell_type": "code",
   "execution_count": 8,
   "id": "deb73b58-8dbf-4be0-83f5-2674aaa31685",
   "metadata": {},
   "outputs": [],
   "source": [
    "jsonpath_expr = parse(\"$.['Unincorporated Places']\")\n",
    "matches = [match.value for match in jsonpath_expr.find(json_data)]"
   ]
  },
  {
   "cell_type": "code",
   "execution_count": 9,
   "id": "9c4b6778-70e2-47a0-bf61-fab70dd5895c",
   "metadata": {},
   "outputs": [],
   "source": [
    "# json_hash = {}\n",
    "# for entry in matches[0]:\n",
    "#     zip_codes = entry.get('ZIP Codes') \n",
    "#     if zip_codes is not None:\n",
    "#         zip_codes = zip_codes.split(', ')\n",
    "#         for zip_code in zip_codes:\n",
    "#             if zip_code not in json_hash:\n",
    "#                 json_hash[zip_code] = []\n",
    "#             json_hash[zip_code].append(entry)\n",
    "#     else:\n",
    "#         zip_codes = entry.get('ZIP Code')\n",
    "#         if zip_codes not in json_hash:\n",
    "#             json_hash[zip_codes] = []\n",
    "#         json_hash[zip_codes].append(entry)"
   ]
  },
  {
   "cell_type": "code",
   "execution_count": 9,
   "id": "45254ad2-836f-46bf-a17e-92d5a1eb9200",
   "metadata": {},
   "outputs": [],
   "source": [
    "json_hash = {}\n",
    "for entry in matches[0]:\n",
    "    city_name = entry.get('City Name') \n",
    "    if city_name is not None:\n",
    "        if city_name not in json_hash:\n",
    "            json_hash[city_name] = []\n",
    "        json_hash[city_name].append(entry)"
   ]
  },
  {
   "cell_type": "code",
   "execution_count": 11,
   "id": "b45a8991-58bb-4613-b3a4-8a5b6ff95c2d",
   "metadata": {},
   "outputs": [],
   "source": [
    "sql_hash = {}\n",
    "for entry in records:\n",
    "    city_name = entry[6] \n",
    "    if city_name is not None:\n",
    "        if city_name not in sql_hash:\n",
    "            sql_hash[city_name] = []\n",
    "        sql_hash[city_name].append(entry)"
   ]
  },
  {
   "cell_type": "code",
   "execution_count": 21,
   "id": "5ba999a5-afda-4c81-a463-bde126997f6a",
   "metadata": {},
   "outputs": [
    {
     "name": "stdout",
     "output_type": "stream",
     "text": [
      "[{'State': 'California', 'County': 'San Diego', 'ZIP Code': '92067', 'City Name': 'Rancho Santa Fe', 'Metro Area': 'San Diego Area', 'Nearby Cities': 'Carlsbad, Del Mar, Encinitas, Escondido, Poway, San Marcos, Solana Beach, Vista', 'Assembly District': 'CA-77', 'State Senate District': 'CA-38', 'Congressional District': 'CA-49', 'Secondary School District': 'San Dieguito', 'Elementary School Districts': 'Rancho Santa Fe, Solana Beach', 'Nearby Unincorporated Places': 'Hidden Meadows, Lake San Marcos', 'Neighboring Unincorporated Places': 'Fairbanks Ranch'}]\n",
      "[{'State': 'California', 'County': 'San Diego', 'City Name': 'Pala', 'ZIP Codes': '92059, 92082', 'Metro Area': 'San Diego Area', 'Nearby Cities': 'Escondido, Temecula, Vista', 'Assembly District': 'CA-75', 'State Senate District': 'CA-38', 'Congressional District': 'CA-50', 'Unified School District': 'Bonsall', 'Nearby Unincorporated Places': 'Aguanga, Bonsall, Camp Pendleton North, Fallbrook, Hidden Meadows, Rainbow, Valley Center'}]\n"
     ]
    }
   ],
   "source": [
    "for city in sql_hash:\n",
    "    if city in json_hash:\n",
    "        print (json_hash[city])"
   ]
  }
 ],
 "metadata": {
  "kernelspec": {
   "display_name": "Python 3 (ipykernel)",
   "language": "python",
   "name": "python3"
  },
  "language_info": {
   "codemirror_mode": {
    "name": "ipython",
    "version": 3
   },
   "file_extension": ".py",
   "mimetype": "text/x-python",
   "name": "python",
   "nbconvert_exporter": "python",
   "pygments_lexer": "ipython3",
   "version": "3.9.13"
  }
 },
 "nbformat": 4,
 "nbformat_minor": 5
}
