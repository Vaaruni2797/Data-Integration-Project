{
 "cells": [
  {
   "cell_type": "code",
   "execution_count": 1,
   "id": "2fd2892c",
   "metadata": {
    "tags": []
   },
   "outputs": [],
   "source": [
    "#libraries required\n",
    "import pandas as pd\n",
    "import mysql.connector\n",
    "import string\n",
    "import json\n",
    "import psycopg2\n",
    "from jsonpath_ng.ext import parse"
   ]
  },
  {
   "cell_type": "code",
   "execution_count": 2,
   "id": "bd65072c",
   "metadata": {
    "tags": []
   },
   "outputs": [],
   "source": [
    "#Functions\n",
    "def remove_punctuation(text):\n",
    "    punctuationfree=\"\".join([i for i in text if i not in string.punctuation])\n",
    "    return punctuationfree\n",
    "\n",
    "#library that contains punctuation\n",
    "#defining the function to remove punctuation\n",
    "def remove_punctuation_and_lower(text):\n",
    "    punctuationfree=\"\".join([i.lower() for i in text if i not in string.punctuation])\n",
    "    return punctuationfree\n",
    "#storing the puntuation free text\n",
    "\n",
    "\n",
    "\n",
    "def load_json_data(input_file):\n",
    "    try:\n",
    "        with open(input_file, 'r') as data_json:\n",
    "            source_data = json.load(data_json)\n",
    "        return source_data\n",
    "    except FileNotFoundError:\n",
    "        print(f\"Error: The file '{input_file}' was not found.\")\n",
    "        return None"
   ]
  },
  {
   "cell_type": "code",
   "execution_count": 3,
   "id": "2ee2f1cd",
   "metadata": {
    "tags": []
   },
   "outputs": [],
   "source": [
    "# database = input(\"Enter database name:\")\n",
    "# host = input(\"Enter host name:\")\n",
    "# user = input(\"Enter user name:\")\n",
    "# password = input(\"Enter password:\")\n",
    "# port = input(\"Enter port number:\")\n",
    "\n",
    "conn = psycopg2.connect(database=\"nourish\",\n",
    "                        host=\"awesome-hw.sdsc.edu\",\n",
    "                        user=\"v1desai@ucsd.edu\",\n",
    "                        password=\"emfQGcx3\",\n",
    "                        port=5432)\n",
    "\n",
    "cur = conn.cursor()"
   ]
  },
  {
   "cell_type": "code",
   "execution_count": 4,
   "id": "83827ff6",
   "metadata": {
    "tags": []
   },
   "outputs": [],
   "source": [
    "#product_ingredients_2018\n",
    "\n",
    "list_of_tables = ['usda_2022_food_branded_experimental', 'usda_2022_branded_food_nutrients', 'usda_2022_nutrient_master']\n",
    "\n",
    "cur.execute(\"\"\"SELECT t1.fdc_id, t1.description, t2.nutrient_id, t2.amount, t3.name, t3.unit_name, t3.nutrient_nbr, t3.rank\n",
    "            FROM usda_2022_food_branded_experimental \n",
    "            t1 LEFT JOIN usda_2022_branded_food_nutrients t2 ON t1.fdc_id = t2.fdc_id LEFT JOIN\n",
    "            usda_2022_nutrient_master t3 ON t2.nutrient_id = t3.id LIMIT 100\"\"\")\n",
    "join_records = cur.fetchall()\n",
    "columns = [desc[0] for desc in cur.description]\n",
    "join_df = pd.DataFrame(join_records, columns=columns)\n",
    "group_object = join_df.groupby(['description'])['nutrient_nbr'].mean().reset_index()"
   ]
  },
  {
   "cell_type": "code",
   "execution_count": 5,
   "id": "436b975b-c1d3-43ba-be6c-3fe2aa1766d7",
   "metadata": {
    "tags": []
   },
   "outputs": [
    {
     "data": {
      "text/plain": [
       "0    72% COCOA CRANBERRIES ALMONDS + DARK CHOCOLATE, CRANBERRIES ALMONDS\n",
       "1                                           BEET WHOLE GRAIN CHIPS, BEET\n",
       "2                                         MINT CHIP ICE CREAM, MINT CHIP\n",
       "3                                              MUENSTER CHEESE, MUENSTER\n",
       "4                       RASPBERRY CREAM TOP WHOLE MILK YOGURT, RASPBERRY\n",
       "5                     STRAWBERRY ORGANIC TWISTED FRUIT SNACK, STRAWBERRY\n",
       "6                                                  WHOLE PEELED TOMATOES\n",
       "Name: description, dtype: object"
      ]
     },
     "execution_count": 5,
     "metadata": {},
     "output_type": "execute_result"
    }
   ],
   "source": [
    "pd.set_option('display.max_colwidth', None)\n",
    "group_object.description\n",
    "\n"
   ]
  },
  {
   "cell_type": "code",
   "execution_count": 6,
   "id": "3a1387dd",
   "metadata": {},
   "outputs": [
    {
     "name": "stdout",
     "output_type": "stream",
     "text": [
      "\n",
      "\n",
      "usda_2022_food_branded_experimental\n",
      "                  0        1\n",
      "0            fdc_id  integer\n",
      "1         data_type     text\n",
      "2       description     text\n",
      "3  food_category_id     text\n",
      "4  publication_date     text\n",
      "\n",
      "\n",
      "usda_2022_branded_food_nutrients\n",
      "                    0        1\n",
      "0                  id  integer\n",
      "1              fdc_id  integer\n",
      "2         nutrient_id  integer\n",
      "3              amount  numeric\n",
      "4         data_points     text\n",
      "5       derivation_id  integer\n",
      "6                 min     text\n",
      "7                 max     text\n",
      "8              median     text\n",
      "9            footnote     text\n",
      "10  min_year_acquired     text\n",
      "\n",
      "\n",
      "usda_2022_nutrient_master\n",
      "              0        1\n",
      "0            id  integer\n",
      "1          name     text\n",
      "2     unit_name     text\n",
      "3  nutrient_nbr  numeric\n",
      "4          rank     text\n"
     ]
    }
   ],
   "source": [
    "for tbl in list_of_tables:\n",
    "    table_type_column_query = f\"\"\"SELECT column_name, data_type \n",
    "                             FROM information_schema.columns\n",
    "                             WHERE table_name = '{tbl}';\"\"\"\n",
    "    cur.execute(table_type_column_query)\n",
    "    records = cur.fetchall()\n",
    "    print('\\n')\n",
    "    print(tbl)\n",
    "    print(pd.DataFrame(records))\n"
   ]
  },
  {
   "cell_type": "code",
   "execution_count": 2,
   "id": "9f26b590",
   "metadata": {},
   "outputs": [],
   "source": [
    "#prof deleted this table -- probably not good\n",
    "#foods_to_avoid = pd.read_csv('Disease_foods_to_avoid_csv.csv', delimiter = ';')\n",
    "#load in tasty dishes (csv)\n",
    "tasty_dishes = pd.read_csv('dishes.csv') \n",
    "#load in tasty ingredients and instructions as Pandas dataframe\n",
    "with open('ingredient_and_instructions.json') as file:\n",
    "    tasty_json_ingredients = json.load(file)\n",
    "ingredients_and_recipes_df = pd.DataFrame(tasty_json_ingredients)\n"
   ]
  },
  {
   "cell_type": "code",
   "execution_count": 3,
   "id": "471488a8-d664-4004-bd1d-2be58dfab5d5",
   "metadata": {},
   "outputs": [],
   "source": [
    "#unstructured data\n",
    "jsonpath_expr = parse(\"$..['instructions']\")\n",
    "matches = [match.value for match in jsonpath_expr.find(tasty_json_ingredients)]\n",
    "\n",
    "text = []\n",
    "for i in range(len(matches)):\n",
    "    list_text = \" \".join(line['display_text'].strip() for line in matches[i])\n",
    "    text.append(list_text)"
   ]
  },
  {
   "cell_type": "code",
   "execution_count": 17,
   "id": "85710645",
   "metadata": {},
   "outputs": [],
   "source": [
    "jsonpath_expr = parse(\"$..['ingredient_sections']\")\n",
    "matches = [match.value for match in jsonpath_expr.find(tasty_json_ingredients)]"
   ]
  },
  {
   "cell_type": "code",
   "execution_count": 18,
   "id": "57d02444-7d42-4eea-b2be-d78f39cc25bb",
   "metadata": {},
   "outputs": [],
   "source": [
    "#extracting list of ingredients product by product\n",
    "ingredients = []\n",
    "ingredient_per_prod = []\n",
    "for products in matches:\n",
    "    for product in products:\n",
    "        ing_per_prod = product['ingredients']\n",
    "        for ing in ing_per_prod:\n",
    "            ingredient_per_prod.append(ing['name'])\n",
    "    ingredients.append(ingredient_per_prod)\n",
    "    ingredient_per_prod = []"
   ]
  },
  {
   "cell_type": "code",
   "execution_count": 19,
   "id": "20f9a6c2-055b-4326-b4a0-b23d0066dae1",
   "metadata": {},
   "outputs": [],
   "source": [
    "metric = []\n",
    "metric_per_prod = []\n",
    "for products in matches:\n",
    "    for product in products:\n",
    "        met_per_prod = product['ingredients']\n",
    "        for met in met_per_prod:\n",
    "            if met['metric_unit'] is not None:\n",
    "                metric_per_prod.append((met['metric_unit']['quantity'],met['metric_unit']['display']))\n",
    "            else:\n",
    "                metric_per_prod.append((None,None))\n",
    "    metric.append(metric_per_prod)\n",
    "    metric_per_prod = []"
   ]
  },
  {
   "cell_type": "code",
   "execution_count": 72,
   "id": "b58c3b07",
   "metadata": {},
   "outputs": [],
   "source": [
    "tasty_dishes_filtered = tasty_dishes[['keywords', 'name', 'protein', 'fat', 'calories', 'sugar', 'carbohydrates', 'fiber']]"
   ]
  }
 ],
 "metadata": {
  "kernelspec": {
   "display_name": "Python 3 (ipykernel)",
   "language": "python",
   "name": "python3"
  },
  "language_info": {
   "codemirror_mode": {
    "name": "ipython",
    "version": 3
   },
   "file_extension": ".py",
   "mimetype": "text/x-python",
   "name": "python",
   "nbconvert_exporter": "python",
   "pygments_lexer": "ipython3",
   "version": "3.10.3"
  }
 },
 "nbformat": 4,
 "nbformat_minor": 5
}
