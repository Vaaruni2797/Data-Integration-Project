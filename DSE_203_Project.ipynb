{
 "cells": [
  {
   "cell_type": "code",
   "execution_count": 2,
   "id": "3b45242d",
   "metadata": {
    "tags": []
   },
   "outputs": [
    {
     "name": "stdout",
     "output_type": "stream",
     "text": [
      "Requirement already satisfied: mysql-connector-python in c:\\users\\chris\\anaconda3\\lib\\site-packages (8.2.0)\n",
      "Requirement already satisfied: psycopg2 in c:\\users\\chris\\anaconda3\\lib\\site-packages (2.9.9)\n",
      "Requirement already satisfied: protobuf<=4.21.12,>=4.21.1 in c:\\users\\chris\\anaconda3\\lib\\site-packages (from mysql-connector-python) (4.21.12)\n",
      "Note: you may need to restart the kernel to use updated packages.\n"
     ]
    }
   ],
   "source": [
    "pip install mysql-connector-python psycopg2"
   ]
  },
  {
   "cell_type": "code",
   "execution_count": 3,
   "id": "2fd2892c",
   "metadata": {
    "tags": []
   },
   "outputs": [],
   "source": [
    "#libraries required\n",
    "import pandas as pd\n",
    "import mysql.connector\n",
    "import pyodbc\n",
    "import string\n",
    "import json\n",
    "import psycopg2\n"
   ]
  },
  {
   "cell_type": "code",
   "execution_count": 4,
   "id": "bd65072c",
   "metadata": {
    "tags": []
   },
   "outputs": [
    {
     "ename": "NameError",
     "evalue": "name 'recipes_with_ingredients' is not defined",
     "output_type": "error",
     "traceback": [
      "\u001b[1;31m---------------------------------------------------------------------------\u001b[0m",
      "\u001b[1;31mNameError\u001b[0m                                 Traceback (most recent call last)",
      "Cell \u001b[1;32mIn[4], line 12\u001b[0m\n\u001b[0;32m     10\u001b[0m     \u001b[38;5;28;01mreturn\u001b[39;00m punctuationfree\n\u001b[0;32m     11\u001b[0m \u001b[38;5;66;03m#storing the puntuation free text\u001b[39;00m\n\u001b[1;32m---> 12\u001b[0m recipes_with_ingredients[\u001b[38;5;124m'\u001b[39m\u001b[38;5;124mclean_msg\u001b[39m\u001b[38;5;124m'\u001b[39m]\u001b[38;5;241m=\u001b[39m recipes_with_ingredients[\u001b[38;5;124m'\u001b[39m\u001b[38;5;124mlabel\u001b[39m\u001b[38;5;124m'\u001b[39m]\u001b[38;5;241m.\u001b[39mapply(\u001b[38;5;28;01mlambda\u001b[39;00m x:remove_punctuation(x))\n\u001b[0;32m     15\u001b[0m \u001b[38;5;28;01mdef\u001b[39;00m \u001b[38;5;21mload_json_data\u001b[39m(input_file):\n\u001b[0;32m     16\u001b[0m     \u001b[38;5;28;01mtry\u001b[39;00m:\n",
      "\u001b[1;31mNameError\u001b[0m: name 'recipes_with_ingredients' is not defined"
     ]
    }
   ],
   "source": [
    "#Functions\n",
    "def remove_punctuation(text):\n",
    "    punctuationfree=\"\".join([i for i in text if i not in string.punctuation])\n",
    "    return punctuationfree\n",
    "\n",
    "#library that contains punctuation\n",
    "#defining the function to remove punctuation\n",
    "def remove_punctuation_and_lower(text):\n",
    "    punctuationfree=\"\".join([i.lower() for i in text if i not in string.punctuation])\n",
    "    return punctuationfree\n",
    "#storing the puntuation free text\n",
    "\n",
    "\n",
    "\n",
    "def load_json_data(input_file):\n",
    "    try:\n",
    "        with open(input_file, 'r') as data_json:\n",
    "            source_data = json.load(data_json)\n",
    "        return source_data\n",
    "    except FileNotFoundError:\n",
    "        print(f\"Error: The file '{input_file}' was not found.\")\n",
    "        return None"
   ]
  },
  {
   "cell_type": "code",
   "execution_count": 5,
   "id": "2ee2f1cd",
   "metadata": {
    "tags": []
   },
   "outputs": [],
   "source": [
    "# database = input(\"Enter database name:\")\n",
    "# host = input(\"Enter host name:\")\n",
    "# user = input(\"Enter user name:\")\n",
    "# password = input(\"Enter password:\")\n",
    "# port = input(\"Enter port number:\")\n",
    "\n",
    "\n",
    "cur = conn.cursor()"
   ]
  },
  {
   "cell_type": "code",
   "execution_count": 6,
   "id": "83827ff6",
   "metadata": {
    "tags": []
   },
   "outputs": [
    {
     "data": {
      "text/plain": [
       "0    ZITI PARMESANO\n",
       "1    ZITI PARMESANO\n",
       "2    ZITI PARMESANO\n",
       "3    ZITI PARMESANO\n",
       "4    ZITI PARMESANO\n",
       "5    ZITI PARMESANO\n",
       "6    ZITI PARMESANO\n",
       "7    ZITI PARMESANO\n",
       "8    ZITI PARMESANO\n",
       "9    ZITI PARMESANO\n",
       "Name: description, dtype: object"
      ]
     },
     "execution_count": 6,
     "metadata": {},
     "output_type": "execute_result"
    }
   ],
   "source": [
    "#product_ingredients_2018\n",
    "\n",
    "list_of_tables = ['usda_2022_food_branded_experimental', 'usda_2022_branded_food_nutrients', 'usda_2022_nutrient_master']\n",
    "\n",
    "# for i in list_of_tables:\n",
    "#     cur.execute(f\"SELECT * FROM {i} LIMIT 10\")\n",
    "#     records = cur.fetchall()\n",
    "#     print([desc[0] for desc in cur.description])\n",
    "#     cur.execute(f\"SELECT COUNT({cur.description[0][0]}) FROM {i}\")\n",
    "#     count = cur.fetchall()\n",
    "#     print(records)\n",
    "#     print(count)\n",
    "\n",
    "# cur.execute(\"SELECT DESCRIPTION FROM usda_2022_food_branded_experimental LIMIT 100\")\n",
    "# output = cur.fetchall()\n",
    "# print(output)\n",
    "#cur.execute(\"SELECT count(long_name), long_name FROM product_ingredients_2018 group by long_name LIMIT 5000\")\n",
    "#records = cur.fetchall()\n",
    "#print([desc[0] for desc in cur.description])\n",
    "#print(records)\n",
    "\n",
    "cur.execute(\"\"\"SELECT t1.fdc_id, t1.description, t2.nutrient_id, t2.amount, t3.name, t3.unit_name, t3.nutrient_nbr, t3.rank\n",
    "            FROM usda_2022_food_branded_experimental \n",
    "            t1 LEFT JOIN usda_2022_branded_food_nutrients t2 ON t1.fdc_id = t2.fdc_id LEFT JOIN\n",
    "            usda_2022_nutrient_master t3 ON t2.nutrient_id = t3.id LIMIT 100\"\"\")\n",
    "join_records = cur.fetchall()\n",
    "columns = [desc[0] for desc in cur.description]\n",
    "join_df = pd.DataFrame(join_records, columns=columns)\n",
    "\n",
    "join_df\n",
    "\n",
    "# pd.set_option('display.max_colwidth', None)\n",
    "\n",
    "group_object = join_df.groupby(['description'])['nutrient_nbr'].mean().reset_index()\n",
    "\n",
    "join_df.description.iloc[:10]\n",
    "#skip the experimental"
   ]
  },
  {
   "cell_type": "code",
   "execution_count": 9,
   "id": "436b975b-c1d3-43ba-be6c-3fe2aa1766d7",
   "metadata": {
    "tags": []
   },
   "outputs": [
    {
     "data": {
      "text/plain": [
       "0    6 CHEESE ITALIAN LOW MOISTURE PART-SKIM MOZZARELLA, PROVOLONE WITH SMOKE FLAVOR, ROMANO, FONTINA, FRESH ASIAGO & PARMESAN FINE CUT SHREDDED NATURAL CHEESES, 6 CHEESE ITALIAN\n",
       "1                                                                                                                           BLUEBERRY GREEK YOGURT MEAL REPLACEMENT BAR, BLUEBERRY\n",
       "2                                                                                                                           COOKIES & CREME PROTEIN-RICH MEAL BAR, COOKIES & CREME\n",
       "3                                                                                               DARK CHOCOLATE TRUFFLE CASHEWMILK NON-DAIRY FROZEN DESSERT, DARK CHOCOLATE TRUFFLE\n",
       "4                                                                 TURKEY BREAST MEDALLIONS & STUFFING WITH HOME STYLE MASHED POTATOES & GRAVY, TURKEY BREAST MEDALLIONS & STUFFING\n",
       "5                                                                                                                                                                   ZITI PARMESANO\n",
       "Name: description, dtype: object"
      ]
     },
     "execution_count": 9,
     "metadata": {},
     "output_type": "execute_result"
    }
   ],
   "source": [
    "pd.set_option('display.max_colwidth', None)\n",
    "group_object.description\n",
    "\n"
   ]
  },
  {
   "cell_type": "code",
   "execution_count": 42,
   "id": "3a1387dd",
   "metadata": {},
   "outputs": [
    {
     "name": "stdout",
     "output_type": "stream",
     "text": [
      "\n",
      "\n",
      "usda_2022_food_branded_experimental\n",
      "                  0        1\n",
      "0            fdc_id  integer\n",
      "1         data_type     text\n",
      "2       description     text\n",
      "3  food_category_id     text\n",
      "4  publication_date     text\n",
      "\n",
      "\n",
      "usda_2022_branded_food_nutrients\n",
      "                    0        1\n",
      "0                  id  integer\n",
      "1              fdc_id  integer\n",
      "2         nutrient_id  integer\n",
      "3              amount  numeric\n",
      "4         data_points     text\n",
      "5       derivation_id  integer\n",
      "6                 min     text\n",
      "7                 max     text\n",
      "8              median     text\n",
      "9            footnote     text\n",
      "10  min_year_acquired     text\n",
      "\n",
      "\n",
      "usda_2022_nutrient_master\n",
      "              0        1\n",
      "0            id  integer\n",
      "1          name     text\n",
      "2     unit_name     text\n",
      "3  nutrient_nbr  numeric\n",
      "4          rank     text\n"
     ]
    }
   ],
   "source": [
    "# table_type_column_query = f\"\"\"SELECT column_name, data_type \n",
    "#                              FROM information_schema.columns\n",
    "#                              WHERE table_name = '{tbl}';\"\"\"\n",
    "\n",
    "for tbl in list_of_tables:\n",
    "    table_type_column_query = f\"\"\"SELECT column_name, data_type \n",
    "                             FROM information_schema.columns\n",
    "                             WHERE table_name = '{tbl}';\"\"\"\n",
    "    cur.execute(table_type_column_query)\n",
    "    records = cur.fetchall()\n",
    "    print('\\n')\n",
    "    print(tbl)\n",
    "    print(pd.DataFrame(records))\n"
   ]
  },
  {
   "cell_type": "code",
   "execution_count": 44,
   "id": "9f26b590",
   "metadata": {},
   "outputs": [],
   "source": [
    "#prof deleted this table -- probably not good\n",
    "foods_to_avoid = pd.read_csv('Disease_foods_to_avoid_csv.csv', delimiter = ';')\n",
    "#load in tasty dishes (csv)\n",
    "tasty_dishes = pd.read_csv('dishes.csv') \n",
    "#load in tasty ingredients and instructions as Pandas dataframe\n",
    "with open('ingredient_and_instructions.json') as file:\n",
    "    tasty_json_ingredients = json.load(file)\n",
    "ingredients_and_recipes_df = pd.DataFrame(tasty_json_ingredients)\n"
   ]
  },
  {
   "cell_type": "code",
   "execution_count": 52,
   "id": "08c5f339",
   "metadata": {},
   "outputs": [
    {
     "data": {
      "text/plain": [
       "[{'name': 'Dough',\n",
       "  'ingredients': [{'extra_comment': 'melted',\n",
       "    'name': 'unsalted butter',\n",
       "    'primary_unit': {'quantity': '½', 'display': 'cup'},\n",
       "    'metric_unit': {'quantity': '115', 'display': 'g'}},\n",
       "   {'extra_comment': 'warm to the touch',\n",
       "    'name': 'whole milk',\n",
       "    'primary_unit': {'quantity': '2', 'display': 'cups'},\n",
       "    'metric_unit': {'quantity': '480', 'display': 'mL'}},\n",
       "   {'extra_comment': '',\n",
       "    'name': 'granulated sugar',\n",
       "    'primary_unit': {'quantity': '½', 'display': 'cup'},\n",
       "    'metric_unit': {'quantity': '100', 'display': 'g'}},\n",
       "   {'extra_comment': '',\n",
       "    'name': 'active dry yeast',\n",
       "    'primary_unit': {'quantity': '2 ¼', 'display': 'teaspoons'},\n",
       "    'metric_unit': None},\n",
       "   {'extra_comment': 'divided',\n",
       "    'name': 'flour',\n",
       "    'primary_unit': {'quantity': '5', 'display': 'cups'},\n",
       "    'metric_unit': {'quantity': '625', 'display': 'g'}},\n",
       "   {'extra_comment': '',\n",
       "    'name': 'baking powder',\n",
       "    'primary_unit': {'quantity': '1', 'display': 'teaspoon'},\n",
       "    'metric_unit': None},\n",
       "   {'extra_comment': '',\n",
       "    'name': 'salt',\n",
       "    'primary_unit': {'quantity': '2', 'display': 'teaspoons'},\n",
       "    'metric_unit': None}]},\n",
       " {'name': 'Filling',\n",
       "  'ingredients': [{'extra_comment': 'softened',\n",
       "    'name': 'butter',\n",
       "    'primary_unit': {'quantity': '¾', 'display': 'cup'},\n",
       "    'metric_unit': {'quantity': '170', 'display': 'g'}},\n",
       "   {'extra_comment': '',\n",
       "    'name': 'light brown sugar',\n",
       "    'primary_unit': {'quantity': '¾', 'display': 'cup'},\n",
       "    'metric_unit': {'quantity': '165', 'display': 'g'}},\n",
       "   {'extra_comment': '',\n",
       "    'name': 'ground cinnamon',\n",
       "    'primary_unit': {'quantity': '2', 'display': 'tablespoons'},\n",
       "    'metric_unit': None}]},\n",
       " {'name': 'Frosting',\n",
       "  'ingredients': [{'extra_comment': 'softened',\n",
       "    'name': 'cream cheese',\n",
       "    'primary_unit': {'quantity': '4', 'display': 'oz'},\n",
       "    'metric_unit': {'quantity': '55', 'display': 'g'}},\n",
       "   {'extra_comment': 'melted',\n",
       "    'name': 'butter',\n",
       "    'primary_unit': {'quantity': '2', 'display': 'tablespoons'},\n",
       "    'metric_unit': None},\n",
       "   {'extra_comment': '',\n",
       "    'name': 'whole milk',\n",
       "    'primary_unit': {'quantity': '2', 'display': 'tablespoons'},\n",
       "    'metric_unit': None},\n",
       "   {'extra_comment': '',\n",
       "    'name': 'vanilla extract',\n",
       "    'primary_unit': {'quantity': '1', 'display': 'teaspoon'},\n",
       "    'metric_unit': None},\n",
       "   {'extra_comment': '',\n",
       "    'name': 'powdered sugar',\n",
       "    'primary_unit': {'quantity': '1', 'display': 'cup'},\n",
       "    'metric_unit': {'quantity': '120', 'display': 'g'}}]}]"
      ]
     },
     "execution_count": 52,
     "metadata": {},
     "output_type": "execute_result"
    }
   ],
   "source": [
    "#transpose and print a test\n",
    "df = ingredients_and_recipes_df.transpose()\n",
    "df.iloc[0,0]\n",
    "#Nodes: Recipe, Ingredient\n",
    "#Relationships: Ingredients -> Ingredients via instructions\n"
   ]
  },
  {
   "cell_type": "code",
   "execution_count": 105,
   "id": "b58c3b07",
   "metadata": {},
   "outputs": [
    {
     "name": "stdout",
     "output_type": "stream",
     "text": [
      "country              object\n",
      "id_                   int64\n",
      "description          object\n",
      "keywords             object\n",
      "name                 object\n",
      "cook_time             int64\n",
      "prep_time             int64\n",
      "total_time            int64\n",
      "ratings_negative      int64\n",
      "ratings_positive      int64\n",
      "score               float64\n",
      "protein             float64\n",
      "fat                 float64\n",
      "calories            float64\n",
      "sugar               float64\n",
      "carbohydrates       float64\n",
      "fiber               float64\n",
      "dtype: object\n",
      " For Breakfast,0,0,0,133,2621,96.0,13.0,19.0,242.0,0.0,3.0,0.0\n",
      "US,3033,,,3-ingredient Pancakes,0,0,0,533,2947,85.0,4.0,3.0,80.0,4.0,9.0,1.0\n",
      "US,1352,,,Chocolate Strawberry Crepes ,0,0,0,143,2779,96.0,41.0,56.0,1409.0,66.0,181.0,9.0\n",
      "ZZ,1477,,\"breakfast, healthy, oats, pancakes\",Banana Pancakes,0,0,0,773,2694,78.0,4.0,3.0,116.0,9.0,18.0,2.0\n",
      "ZZ,2267,,\"buzzfeed, cake, crepe, dessert, rainbow, tasty, tasty_vegetarian\",Rainbow Crepe Cake,0,0,0,294,1889,87.0,10.0,18.0,351.0,12.0,34.0,0.0\n",
      "US,1630,,\"\n"
     ]
    }
   ],
   "source": [
    "tasty_dishes_filtered = tasty_dishes[['country', 'id_', 'description', 'keywords', 'name', 'cook_time', 'prep_time', 'total_time',\n",
    "       'ratings_negative', 'ratings_positive', 'score', 'protein', 'fat',\n",
    "       'calories', 'sugar', 'carbohydrates', 'fiber']]\n",
    "\n",
    "tasty_dishes_dropped_nas = tasty_dishes_filtered.dropna(subset=['score'])\n",
    "print(tasty_dishes_dropped_nas.dtypes)\n",
    "\n",
    "tasty_dishes_dropped_nas.iloc[2967,:]\n",
    "#tasty_dishes_dropped_nas['description'] = tasty_dishes_dropped_nas['description'].astype('string').apply(lambda x: remove_punctuation(x))\n",
    "\n",
    "#tasty_dishes_dropped_nas['keyword'] = tasty_dishes_dropped_nas['keywords'].str.replace(/\\\"(.*?)\\\"/g, \"{$1}\")\n",
    "\n",
    "tasty_dishes_test_csv = tasty_dishes_dropped_nas.to_csv(index=False)\n",
    "print(tasty_dishes_test_csv[2500:3000])\n",
    "\n",
    "tasty_dishes_dropped_nas.to_csv('tasty_dishes_cleaned.csv', index=False)\n"
   ]
  },
  {
   "cell_type": "code",
   "execution_count": null,
   "id": "85710645",
   "metadata": {},
   "outputs": [],
   "source": [
    "\n"
   ]
  },
  {
   "cell_type": "code",
   "execution_count": null,
   "id": "f99230c1",
   "metadata": {},
   "outputs": [],
   "source": []
  },
  {
   "cell_type": "code",
   "execution_count": null,
   "id": "f773dfc5",
   "metadata": {},
   "outputs": [],
   "source": []
  }
 ],
 "metadata": {
  "kernelspec": {
   "display_name": "Python 3 (ipykernel)",
   "language": "python",
   "name": "python3"
  },
  "language_info": {
   "codemirror_mode": {
    "name": "ipython",
    "version": 3
   },
   "file_extension": ".py",
   "mimetype": "text/x-python",
   "name": "python",
   "nbconvert_exporter": "python",
   "pygments_lexer": "ipython3",
   "version": "3.11.5"
  }
 },
 "nbformat": 4,
 "nbformat_minor": 5
}
