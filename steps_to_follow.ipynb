{
 "cells": [
  {
   "cell_type": "code",
   "execution_count": 1,
   "id": "c07be9cc-d26c-4035-93e6-6ca516c7e9b8",
   "metadata": {},
   "outputs": [
    {
     "name": "stdout",
     "output_type": "stream",
     "text": [
      "Cloning into 'dedupe-examples'...\n",
      "remote: Enumerating objects: 6394, done.\u001b[K\n",
      "remote: Counting objects: 100% (5/5), done.\u001b[K\n",
      "remote: Compressing objects: 100% (5/5), done.\u001b[K\n",
      "remote: Total 6394 (delta 0), reused 4 (delta 0), pack-reused 6389\u001b[K\n",
      "Receiving objects: 100% (6394/6394), 5.22 MiB | 9.54 MiB/s, done.\n",
      "Resolving deltas: 100% (3875/3875), done.\n",
      "/Users/Zufeshan/Desktop/2022-zuimran/DSE203-ETL and Information Integration/week4/dedupe-examples\n"
     ]
    }
   ],
   "source": [
    "!git clone https://github.com/dedupeio/dedupe-examples.git\n",
    "%cd dedupe-examples"
   ]
  },
  {
   "cell_type": "code",
   "execution_count": 2,
   "id": "e3ed1cdf-dea0-4f02-85de-451bd1a69612",
   "metadata": {
    "collapsed": true,
    "jupyter": {
     "outputs_hidden": true
    },
    "tags": []
   },
   "outputs": [
    {
     "name": "stdout",
     "output_type": "stream",
     "text": [
      "Collecting dedupe\n",
      "  Downloading dedupe-2.0.23-cp310-cp310-macosx_10_9_x86_64.whl (94 kB)\n",
      "\u001b[2K     \u001b[90m━━━━━━━━━━━━━━━━━━━━━━━━━━━━━━━━━━━━━━━━\u001b[0m \u001b[32m94.8/94.8 kB\u001b[0m \u001b[31m1.0 MB/s\u001b[0m eta \u001b[36m0:00:00\u001b[0mta \u001b[36m0:00:01\u001b[0m\n",
      "\u001b[?25hCollecting Unidecode==0.4.16\n",
      "  Downloading Unidecode-0.04.16.tar.gz (200 kB)\n",
      "\u001b[2K     \u001b[90m━━━━━━━━━━━━━━━━━━━━━━━━━━━━━━━━━━━━━━━\u001b[0m \u001b[32m200.5/200.5 kB\u001b[0m \u001b[31m5.8 MB/s\u001b[0m eta \u001b[36m0:00:00\u001b[0m\n",
      "\u001b[?25h  Preparing metadata (setup.py) ... \u001b[?25ldone\n",
      "\u001b[?25hRequirement already satisfied: future in /Users/Zufeshan/anaconda3/lib/python3.10/site-packages (from -r requirements.txt (line 3)) (0.18.3)\n",
      "Collecting categorical-distance>=1.9\n",
      "  Downloading categorical_distance-1.9-py3-none-any.whl (3.3 kB)\n",
      "Collecting zope.index\n",
      "  Downloading zope.index-6.0-cp310-cp310-macosx_10_9_x86_64.whl (91 kB)\n",
      "\u001b[2K     \u001b[90m━━━━━━━━━━━━━━━━━━━━━━━━━━━━━━━━━━━━━━━━\u001b[0m \u001b[32m91.2/91.2 kB\u001b[0m \u001b[31m17.5 MB/s\u001b[0m eta \u001b[36m0:00:00\u001b[0m\n",
      "\u001b[?25hCollecting dedupe-Levenshtein-search\n",
      "  Downloading dedupe_Levenshtein_search-1.4.5-cp310-cp310-macosx_10_9_x86_64.whl (10 kB)\n",
      "Requirement already satisfied: typing-extensions in /Users/Zufeshan/anaconda3/lib/python3.10/site-packages (from dedupe->-r requirements.txt (line 1)) (4.4.0)\n",
      "Collecting highered>=0.2.0\n",
      "  Downloading highered-0.2.1-py2.py3-none-any.whl (3.3 kB)\n",
      "Collecting dedupe-variable-datetime\n",
      "  Downloading dedupe_variable_datetime-1.0.0-py3-none-any.whl (3.9 kB)\n",
      "Collecting BTrees>=4.1.4\n",
      "  Downloading BTrees-5.1-cp310-cp310-macosx_10_9_x86_64.whl (1.0 MB)\n",
      "\u001b[2K     \u001b[90m━━━━━━━━━━━━━━━━━━━━━━━━━━━━━━━━━━━━━━━━\u001b[0m \u001b[32m1.0/1.0 MB\u001b[0m \u001b[31m13.6 MB/s\u001b[0m eta \u001b[36m0:00:00\u001b[0ma \u001b[36m0:00:01\u001b[0m\n",
      "\u001b[?25hCollecting simplecosine>=1.2\n",
      "  Downloading simplecosine-1.2-py2.py3-none-any.whl (3.2 kB)\n",
      "Collecting haversine>=0.4.1\n",
      "  Downloading haversine-2.8.0-py2.py3-none-any.whl (7.7 kB)\n",
      "Requirement already satisfied: scikit-learn in /Users/Zufeshan/anaconda3/lib/python3.10/site-packages (from dedupe->-r requirements.txt (line 1)) (1.2.1)\n",
      "Requirement already satisfied: numpy>=1.20 in /Users/Zufeshan/anaconda3/lib/python3.10/site-packages (from dedupe->-r requirements.txt (line 1)) (1.23.5)\n",
      "Collecting doublemetaphone\n",
      "  Downloading DoubleMetaphone-1.1-cp310-cp310-macosx_10_9_x86_64.whl (22 kB)\n",
      "Collecting affinegap>=1.3\n",
      "  Downloading affinegap-1.12-cp310-cp310-macosx_10_14_x86_64.whl (14 kB)\n",
      "Collecting persistent>=4.1.0\n",
      "  Downloading persistent-5.1-cp310-cp310-macosx_10_9_x86_64.whl (146 kB)\n",
      "\u001b[2K     \u001b[90m━━━━━━━━━━━━━━━━━━━━━━━━━━━━━━━━━━━━━━━\u001b[0m \u001b[32m146.9/146.9 kB\u001b[0m \u001b[31m9.8 MB/s\u001b[0m eta \u001b[36m0:00:00\u001b[0m\n",
      "\u001b[?25hRequirement already satisfied: zope.interface>=5.0.0 in /Users/Zufeshan/anaconda3/lib/python3.10/site-packages (from BTrees>=4.1.4->dedupe->-r requirements.txt (line 1)) (5.4.0)\n",
      "Collecting pyhacrf-datamade>=0.2.0\n",
      "  Downloading pyhacrf_datamade-0.2.6-cp310-cp310-macosx_10_9_x86_64.whl (196 kB)\n",
      "\u001b[2K     \u001b[90m━━━━━━━━━━━━━━━━━━━━━━━━━━━━━━━━━━━━━━\u001b[0m \u001b[32m196.1/196.1 kB\u001b[0m \u001b[31m12.5 MB/s\u001b[0m eta \u001b[36m0:00:00\u001b[0m\n",
      "\u001b[?25hCollecting datetime-distance\n",
      "  Downloading datetime_distance-0.1.3-py3-none-any.whl (4.1 kB)\n",
      "Collecting dedupe-variable-datetime\n",
      "  Downloading dedupe_variable_datetime-0.1.5-py3-none-any.whl (4.8 kB)\n",
      "Requirement already satisfied: scipy>=1.3.2 in /Users/Zufeshan/anaconda3/lib/python3.10/site-packages (from scikit-learn->dedupe->-r requirements.txt (line 1)) (1.10.0)\n",
      "Requirement already satisfied: joblib>=1.1.1 in /Users/Zufeshan/anaconda3/lib/python3.10/site-packages (from scikit-learn->dedupe->-r requirements.txt (line 1)) (1.1.1)\n",
      "Requirement already satisfied: threadpoolctl>=2.0.0 in /Users/Zufeshan/anaconda3/lib/python3.10/site-packages (from scikit-learn->dedupe->-r requirements.txt (line 1)) (2.2.0)\n",
      "Requirement already satisfied: setuptools in /Users/Zufeshan/anaconda3/lib/python3.10/site-packages (from zope.index->dedupe->-r requirements.txt (line 1)) (65.6.3)\n",
      "Requirement already satisfied: cffi in /Users/Zufeshan/anaconda3/lib/python3.10/site-packages (from persistent>=4.1.0->BTrees>=4.1.4->dedupe->-r requirements.txt (line 1)) (1.15.1)\n",
      "Collecting PyLBFGS>=0.1.3\n",
      "  Downloading PyLBFGS-0.2.0.14-cp310-cp310-macosx_10_9_x86_64.whl (56 kB)\n",
      "\u001b[2K     \u001b[90m━━━━━━━━━━━━━━━━━━━━━━━━━━━━━━━━━━━━━━━━\u001b[0m \u001b[32m56.3/56.3 kB\u001b[0m \u001b[31m6.6 MB/s\u001b[0m eta \u001b[36m0:00:00\u001b[0m\n",
      "\u001b[?25hRequirement already satisfied: python-dateutil>=2.6.0 in /Users/Zufeshan/anaconda3/lib/python3.10/site-packages (from datetime-distance->dedupe-variable-datetime->dedupe->-r requirements.txt (line 1)) (2.8.2)\n",
      "Requirement already satisfied: six>=1.5 in /Users/Zufeshan/anaconda3/lib/python3.10/site-packages (from python-dateutil>=2.6.0->datetime-distance->dedupe-variable-datetime->dedupe->-r requirements.txt (line 1)) (1.16.0)\n",
      "Requirement already satisfied: pycparser in /Users/Zufeshan/anaconda3/lib/python3.10/site-packages (from cffi->persistent>=4.1.0->BTrees>=4.1.4->dedupe->-r requirements.txt (line 1)) (2.21)\n",
      "Building wheels for collected packages: Unidecode\n",
      "  Building wheel for Unidecode (setup.py) ... \u001b[?25ldone\n",
      "\u001b[?25h  Created wheel for Unidecode: filename=Unidecode-0.4.16-py3-none-any.whl size=228241 sha256=d0aebaefee9b7242e83e3543b354030715e449d47e4a75fed7acf5045d2596d1\n",
      "  Stored in directory: /Users/Zufeshan/Library/Caches/pip/wheels/0a/3c/c5/2aee34a0f53b510214e71a6222c501809fc06c247ef8f6369b\n",
      "Successfully built Unidecode\n",
      "Installing collected packages: Unidecode, doublemetaphone, dedupe-Levenshtein-search, affinegap, simplecosine, PyLBFGS, haversine, categorical-distance, pyhacrf-datamade, persistent, datetime-distance, highered, BTrees, zope.index, dedupe-variable-datetime, dedupe\n",
      "  Attempting uninstall: Unidecode\n",
      "    Found existing installation: Unidecode 1.2.0\n",
      "    Uninstalling Unidecode-1.2.0:\n",
      "      Successfully uninstalled Unidecode-1.2.0\n",
      "Successfully installed BTrees-5.1 PyLBFGS-0.2.0.14 Unidecode-0.4.16 affinegap-1.12 categorical-distance-1.9 datetime-distance-0.1.3 dedupe-2.0.23 dedupe-Levenshtein-search-1.4.5 dedupe-variable-datetime-0.1.5 doublemetaphone-1.1 haversine-2.8.0 highered-0.2.1 persistent-5.1 pyhacrf-datamade-0.2.6 simplecosine-1.2 zope.index-6.0\n"
     ]
    }
   ],
   "source": [
    "!pip install -r requirements.txt"
   ]
  },
  {
   "cell_type": "code",
   "execution_count": 3,
   "id": "62f7ee77-8ef1-47c5-ad45-3343e14cfc6c",
   "metadata": {},
   "outputs": [
    {
     "name": "stdout",
     "output_type": "stream",
     "text": [
      "/Users/Zufeshan/Desktop/2022-zuimran/DSE203-ETL and Information Integration/week4/dedupe-examples/csv_example\n"
     ]
    }
   ],
   "source": [
    "%cd csv_example"
   ]
  },
  {
   "cell_type": "code",
   "execution_count": 5,
   "id": "d1a28f8a-6e09-4bd2-8c76-0b82bf2d6f73",
   "metadata": {},
   "outputs": [],
   "source": [
    "!cp '/Users/Zufeshan/Desktop/2022-zuimran/DSE203-ETL and Information Integration/week4/people.csv' ."
   ]
  },
  {
   "cell_type": "code",
   "execution_count": 6,
   "id": "0bf95a31-5dbc-4928-9fc4-3f6915ed5841",
   "metadata": {},
   "outputs": [
    {
     "name": "stdout",
     "output_type": "stream",
     "text": [
      "importing data ...\n",
      "^C\n"
     ]
    }
   ],
   "source": [
    "!python csv_example.py"
   ]
  },
  {
   "cell_type": "code",
   "execution_count": null,
   "id": "a93ba829-4b3b-492c-8505-a4b10a59e401",
   "metadata": {},
   "outputs": [],
   "source": []
  }
 ],
 "metadata": {
  "kernelspec": {
   "display_name": "Python 3 (ipykernel)",
   "language": "python",
   "name": "python3"
  },
  "language_info": {
   "codemirror_mode": {
    "name": "ipython",
    "version": 3
   },
   "file_extension": ".py",
   "mimetype": "text/x-python",
   "name": "python",
   "nbconvert_exporter": "python",
   "pygments_lexer": "ipython3",
   "version": "3.10.9"
  }
 },
 "nbformat": 4,
 "nbformat_minor": 5
}
