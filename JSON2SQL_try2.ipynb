{
 "cells": [
  {
   "cell_type": "code",
   "execution_count": 431,
   "id": "c3df680b-39e8-412d-b15a-6a7c37fab00b",
   "metadata": {},
   "outputs": [],
   "source": [
    "import json\n",
    "import sqlite3\n",
    "import itertools\n",
    "from jsonpath_ng.ext import parse\n",
    "\n",
    "def json_to_sql_multiple_tables(json_file, mapping_config, db_file):\n",
    "    \"\"\"Converts a JSON file to multiple SQL database tables.\n",
    "\n",
    "    Args:\n",
    "    json_file: The path to the JSON file.\n",
    "    mapping_config: User defined relational schema mapping(config.json).\n",
    "    db_file: The path to the SQL database file.\n",
    "    \"\"\"\n",
    "\n",
    "    # Create a connection to the SQL database.\n",
    "    conn = sqlite3.connect(db_file)\n",
    "\n",
    "    # Create a cursor.\n",
    "    cur = conn.cursor()\n",
    "              \n",
    "    # Insert the data into the tables.\n",
    "    with open(json_file, \"r\") as f:\n",
    "        json_data = json.load(f)\n",
    "    key_values = []\n",
    "    insert_queries = []\n",
    "    for item_name, table_config in mapping_config.items():\n",
    "        if item_name == 'db_config':\n",
    "            for item, item_config in table_config.items():\n",
    "                #delete table if exists\n",
    "                del_sql = \"DROP TABLE IF EXISTS {}\".format(item)\n",
    "                cur.execute(del_sql)\n",
    "                #create table\n",
    "                sql = \"CREATE TABLE IF NOT EXISTS {} ({})\".format(item, \",\".join(item_config['columns']))\n",
    "                cur.execute(sql)\n",
    "                #key_values for preparing insert queries\n",
    "                key_values.append([item.split(' ')[0] for item in item_config['columns']])\n",
    "                for key in key_values:\n",
    "                    insert_sql = \"INSERT INTO {} ({}) VALUES ({})\".format(item, \",\".join(key), \",\".join([\"?\"] * len(key)))\n",
    "                insert_queries.append(insert_sql)\n",
    "        else:\n",
    "            for i in range(len(key_values)):\n",
    "                values = []\n",
    "                for j in range(len(key_values[i])):\n",
    "                    #collecting values for keys using schema_map\n",
    "                    #autoincrement - ids not specified in json file (created in else)\n",
    "                    if table_config[key_values[i][j]] != 'autoincrement':\n",
    "                        matches = []\n",
    "                        jsonpath_expr = parse(table_config[key_values[i][j]])\n",
    "                        for arow in json_data:\n",
    "                            amatch = [match.value for match in jsonpath_expr.find(arow)]\n",
    "                            if len(amatch)>1:\n",
    "                                matches.append(', '.join([str(match.value) for match in jsonpath_expr.find(arow)]))\n",
    "                            else:\n",
    "                                matches.append([match.value for match in jsonpath_expr.find(arow)][0])\n",
    "                        values.append(matches)\n",
    "                    else:\n",
    "                        values.append([item for item in range(1, len(json_data)+1)])\n",
    "                #creating tuples to insert into SQL tables\n",
    "                for k in range(len(json_data)):\n",
    "                    tuple_array = []\n",
    "                    for l in range(len(values)):\n",
    "                        tuple_array.append(values[l][k])\n",
    "                    tuple_array = tuple(tuple_array)\n",
    "                    cur.execute(insert_queries[i], tuple_array)\n",
    "                    conn.commit()\n",
    "                                    \n",
    "\n",
    "    # Commit the changes.\n",
    "    conn.commit()\n",
    "    \n",
    "    #returning cur and conn to execute queries outside the function\n",
    "    return cur, conn"
   ]
  },
  {
   "cell_type": "code",
   "execution_count": 434,
   "id": "09ef2939-46c0-4864-8b62-3bfc8dca8a1e",
   "metadata": {},
   "outputs": [
    {
     "name": "stdout",
     "output_type": "stream",
     "text": [
      "Beer_recipe_orignal.json\n"
     ]
    }
   ],
   "source": [
    "with open('config.json', \"r\") as f:\n",
    "        mapping_config = json.load(f)\n",
    "json_file = mapping_config['json_file']\n",
    "db_file = mapping_config['db_file']\n",
    "\n",
    "cur, conn = json_to_sql_multiple_tables(json_file, mapping_config, db_file)         "
   ]
  },
  {
   "cell_type": "code",
   "execution_count": 420,
   "id": "08c1fac8-c2f9-4c70-9d7e-7a983bcdc1ee",
   "metadata": {},
   "outputs": [
    {
     "name": "stdout",
     "output_type": "stream",
     "text": [
      "[(1, 'Buzz', 'Maris Otter Extra Pale, Caramalt, Munich', 'Fuggles, First Gold, Fuggles, First Gold, Cascade', 'Wyeast 1056 - American Ale™'), (2, 'Trashy Blonde', 'Maris Otter Extra Pale, Caramalt, Munich', 'Amarillo, Simcoe, Amarillo, Motueka', 'Wyeast 1056 - American Ale™'), (3, 'Berliner Weisse With Yuzu - B-Sides', 'Propino Pale Malt, Wheat Malt, Propino Pale Malt for kettle souring, Acidulated Malt for kettle souring', 'Bramling Cross', 'Wyeast 1056 - American Ale™'), (4, 'Pilsen Lager', 'Extra Pale, Caramalt, Dark Crystal, Munich', 'Centennial, Amarillo, Centennial, Amarillo, Centennial, Amarillo', 'Wyeast 2007 - Pilsen Lager™'), (5, 'Avery Brown Dredge', 'Lager Malt, Wheat', 'Saaz, Saaz, Saaz', 'Wyeast 2007 - Pilsen Lager™'), (6, 'Electric India', 'Extra Pale, Munich, Wheat', 'Amarillo, Nelson Sauvin, Amarillo, Peppercorns, Nelson Sauvin, Amarillo', 'Wyeast 3711 - French Saison™'), (7, 'AB:12', 'Extra Pale, Chocolate, Carafa Special Malt Type 3', 'Tomahawk, Magnum, Magnum, Tomahawk, Centennial, Amarillo, Centennial, Amarillo, Tomahawk', 'Wyeast 3522 - Belgian Ardennes™'), (8, 'Fake Lager', 'Extra Pale, Munich, Caramalt, Acidulated Malt', 'Magnum, Magnum, Hersbrucker, Saaz, Hersbrucker, Saaz', 'Wyeast 2007 - Pilsen Lager™'), (9, 'AB:07', 'Munich, Flaked Oats, Wheat, Caramalt, Crystal, Dark Crystal, Chocolate, Peated Malt, Amber, Brown', 'Saaz, First Gold', 'Saflager S189'), (10, 'Bramling X', 'Extra Pale, Crystal 150, Caramalt', 'Bramling Cross, Bramling Cross', 'Wyeast 1056 - American Ale™'), (11, 'Misspent Youth', 'Pale Ale, Caramalt, Dark Crystal, Smoked Weyermann, Flaked Oats, Brown, Amber, Chocolate, Munich, Crystal 150', 'First Gold, Fuggles, Honey, Lactose, First Gold, Fuggles', 'Wyeast 1056 - American Ale™'), (12, 'Arcade Nation', 'Pale Ale, Caramalt, Crystal 150, Carafa Special Malt Type 1', 'Simcoe, Simcoe, Simcoe, Amarillo, Citra, Simcoe, Amarillo, Citra', 'Wyeast 1056 - American Ale™'), (13, 'Movember', 'Maris Otter Extra Pale, Caramalt, Crystal 150, Carafa Special Malt Type 1, Carafa Special Malt Type 3', 'Cascade, Cascade, Cascade', 'Wyeast 1056 - American Ale™'), (14, 'Alpha Dog', 'Maris Otter Extra Pale, Caramalt, Munich, Crystal 150, Dark Crystal 350-400', 'Nelson Sauvin, Amarillo, Nelson Sauvin', 'Wyeast 1056 - American Ale™'), (15, 'Mixtape 8', 'Pale Ale - Tipple, Caramalt, Crystal', 'Columbus Extract, Centennial, Cascade, Simcoe', 'Wyeast 3522 - Belgian Ardennes™'), (16, 'Libertine Porter', 'Extra Pale - Spring Blend, Caramalt, Crystal 150, Chocolate, Roasted Barley, Wheat, Flaked Oats, Smoked Malt', 'Columbus, Columbus, Willamette, Galena, Columbus, Galena, Simcoe', 'Wyeast 1056 - American Ale™'), (17, 'AB:06', 'Pale Ale, Crystal 150, Caramalt, Carafa Special Malt Type 1, Carafa Special Malt Type 3', 'Hop Extract, Amarillo, Chinook, Cascade, Centennial, Columbus, Chinook, Cascade, Centennial, Columbus, Amarillo', 'Wyeast 1272 - American Ale II™'), (18, 'Russian Doll – India Pale Ale', 'Extra Pale, Caramalt, Dark Crystal', 'Cascade, Centennial, Simcoe, Simcoe, Citra, Simcoe, Cascade, Centennial, Citra', 'Wyeast 1056 - American Ale™'), (19, 'Hello My Name Is Mette-Marit', 'Extra Pale, Caramalt', 'Tomahawk, Motueka, Galena, Mt.Hood, Challenger, Galena, Nelson Sauvin', 'Wyeast 1056 - American Ale™'), (20, 'Rabiator', 'Extra Pale, Wheat, Crystal', 'Columbus, Hersbrucker', 'Wyeast 3333 - German Wheat™'), (21, 'Vice Bier', 'Extra Pale, Wheat, Caramalt', 'Waimea, Amarillo, Nelson Sauvin, Motueka, Simcoe, Citra, Waimea', 'Wyeast 3638 - Bavarian Wheat™'), (22, 'Devine Rebel (w/ Mikkeller)', 'Extra Pale, Caramalt, Munich, Amber', 'Nelson Sauvin, Nelson Sauvin', 'Wyeast 1056 - American Ale™'), (23, 'Storm', 'Extra Pale', 'Ahtanum, Chinook, Crystal, Chinook, Ahtanum, Chinook, Crystal, Motueka', 'Wyeast 1056 - American Ale™'), (24, 'The End Of History', 'Extra Pale', 'Nelson Sauvin, Centennial, Nelson Sauvin, Amarillo, Centennial', 'Wyeast 3522 - Belgian Ardennes™'), (25, 'Bad Pixie', 'Wheat, Extra Pale', 'First Gold, First Gold, Sorachi Ace', 'Wyeast 1056 - American Ale™')]\n"
     ]
    }
   ],
   "source": [
    "cur.execute(\"SELECT * FROM ingredients;\")\n",
    "print(cur.fetchall())"
   ]
  },
  {
   "cell_type": "code",
   "execution_count": null,
   "id": "6be26d23-23b0-48b4-994f-4e0bdd21d488",
   "metadata": {},
   "outputs": [],
   "source": []
  }
 ],
 "metadata": {
  "kernelspec": {
   "display_name": "Python 3 (ipykernel)",
   "language": "python",
   "name": "python3"
  },
  "language_info": {
   "codemirror_mode": {
    "name": "ipython",
    "version": 3
   },
   "file_extension": ".py",
   "mimetype": "text/x-python",
   "name": "python",
   "nbconvert_exporter": "python",
   "pygments_lexer": "ipython3",
   "version": "3.9.13"
  }
 },
 "nbformat": 4,
 "nbformat_minor": 5
}
