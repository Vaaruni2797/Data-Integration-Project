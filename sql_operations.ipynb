{
 "cells": [
  {
   "cell_type": "code",
   "execution_count": 1,
   "id": "b4855365-f757-42a6-b6aa-f0a3de966df1",
   "metadata": {},
   "outputs": [],
   "source": [
    "import sqlite3"
   ]
  },
  {
   "cell_type": "code",
   "execution_count": 2,
   "id": "89636379-a8be-4192-83e0-ba779b4f30d7",
   "metadata": {},
   "outputs": [],
   "source": [
    "def create_cursor():\n",
    "    conn = sqlite3.connect('my_database.db')\n",
    "    cursor = conn.cursor()\n",
    "    return conn, cursor"
   ]
  },
  {
   "cell_type": "code",
   "execution_count": 3,
   "id": "c695cedb-1300-4aef-9b50-f7e0ab85649e",
   "metadata": {},
   "outputs": [],
   "source": [
    "def delete_tables(cursor):\n",
    "    delete_table_sql = \"\"\"DROP TABLE movies\"\"\"\n",
    "    cursor.execute(delete_table_sql)\n",
    "    delete_table_sql = \"\"\"DROP TABLE tvshows\"\"\"\n",
    "    cursor.execute(delete_table_sql)\n",
    "    delete_table_sql = \"\"\"DROP TABLE stream_info\"\"\"\n",
    "    cursor.execute(delete_table_sql)\n",
    "    delete_table_sql = \"\"\"DROP TABLE actors\"\"\"\n",
    "    cursor.execute(delete_table_sql)\n",
    "    delete_table_sql = \"\"\"DROP TABLE rating\"\"\"\n",
    "    cursor.execute(delete_table_sql)"
   ]
  },
  {
   "cell_type": "code",
   "execution_count": 4,
   "id": "d0cebb5c-6c07-4701-b754-28aa73dd299d",
   "metadata": {},
   "outputs": [],
   "source": [
    "def create_tables(cursor):\n",
    "    # Define your table schema\n",
    "    create_table_movies = \"\"\"\n",
    "    CREATE TABLE IF NOT EXISTS movies (\n",
    "        id INTEGER PRIMARY KEY,\n",
    "        name TEXT,\n",
    "        type TEXT,\n",
    "        director TEXT,\n",
    "        release_date DATETIME,\n",
    "        genre TEXT\n",
    "    )\n",
    "    \"\"\"\n",
    "    create_table_tvshows = \"\"\"\n",
    "    CREATE TABLE IF NOT EXISTS tvshows (\n",
    "        id INTEGER PRIMARY KEY,\n",
    "        name TEXT\n",
    "        director TEXT,\n",
    "        release_date DATETIME,\n",
    "        genre TEXT\n",
    "    )\n",
    "    \"\"\"\n",
    "    create_table_stream = \"\"\"\n",
    "    CREATE TABLE IF NOT EXISTS stream_info (\n",
    "        id INTEGER PRIMARY KEY,\n",
    "        name TEXT,\n",
    "        platform TEXT,\n",
    "        country TEXT\n",
    "    )\n",
    "    \"\"\"\n",
    "    create_table_act = \"\"\"\n",
    "    CREATE TABLE IF NOT EXISTS actors (\n",
    "        id INTEGER PRIMARY KEY,\n",
    "        name TEXT,\n",
    "        actor TEXT\n",
    "    )\n",
    "    \"\"\"\n",
    "    create_table_rating = \"\"\"\n",
    "    CREATE TABLE IF NOT EXISTS rating (\n",
    "        id INTEGER PRIMARY KEY,\n",
    "        name TEXT,\n",
    "        rating FLOAT\n",
    "    )\n",
    "    \"\"\"\n",
    "    cursor.execute(create_table_movies)\n",
    "    cursor.execute(create_table_tvshows)\n",
    "    cursor.execute(create_table_stream)\n",
    "    cursor.execute(create_table_act)\n",
    "    cursor.execute(create_table_rating)"
   ]
  },
  {
   "cell_type": "code",
   "execution_count": null,
   "id": "2eda7d8e-002b-4277-b5fa-7828938372b6",
   "metadata": {},
   "outputs": [],
   "source": []
  }
 ],
 "metadata": {
  "kernelspec": {
   "display_name": "Python 3 (ipykernel)",
   "language": "python",
   "name": "python3"
  },
  "language_info": {
   "codemirror_mode": {
    "name": "ipython",
    "version": 3
   },
   "file_extension": ".py",
   "mimetype": "text/x-python",
   "name": "python",
   "nbconvert_exporter": "python",
   "pygments_lexer": "ipython3",
   "version": "3.9.13"
  }
 },
 "nbformat": 4,
 "nbformat_minor": 5
}
